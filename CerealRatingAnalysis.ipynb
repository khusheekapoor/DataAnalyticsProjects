{
  "nbformat": 4,
  "nbformat_minor": 5,
  "metadata": {
    "kernelspec": {
      "display_name": "Python 3",
      "language": "python",
      "name": "python3"
    },
    "language_info": {
      "codemirror_mode": {
        "name": "ipython",
        "version": 3
      },
      "file_extension": ".py",
      "mimetype": "text/x-python",
      "name": "python",
      "nbconvert_exporter": "python",
      "pygments_lexer": "ipython3",
      "version": "3.8.8"
    },
    "colab": {
      "name": "Week3-KhusheeKapoor-200968052-Cereals.ipynb",
      "provenance": [],
      "collapsed_sections": []
    }
  },
  "cells": [
    {
      "cell_type": "markdown",
      "metadata": {
        "id": "ce1b3b73"
      },
      "source": [
        "## Cereal Rating Analysis"
      ],
      "id": "ce1b3b73"
    },
    {
      "cell_type": "markdown",
      "metadata": {
        "id": "ca985076"
      },
      "source": [
        "Author: Khushee Kapoor\n",
        "\n",
        "Last Updated: 28/11/21\n",
        "\n",
        "Week: 3\n",
        "\n",
        "\n",
        "**Meta-Data** of the Cereals Dataset:\n",
        "\n",
        "*   name: cereal name \n",
        "*   mfr: Manufacturers are represented by their first initial: A=American Home Food Products, G=General Mills, K=Kelloggs, N=Nabisco, P=Post, Q=Quaker Oats, R=Ralston Purina)\n",
        "*   type: type (cold/hot)\n",
        "*   calories: calories (number) \n",
        "*   protein: protein(g) \n",
        "*   fat: fat(g) \n",
        "*   sodium: sodium(mg) \n",
        "*   fiber: dietary fiber(g) \n",
        "*   carbo: complex carbohydrates(g) \n",
        "*   sugars: sugars(g) \n",
        "*   shelf: display shelf (1, 2, or 3, counting from the floor) \n",
        "*   potass: potassium(mg) \n",
        "*   vitamins: vitamins & minerals (0, 25, or 100, respectively indicating 'none added'; 'enriched, often to 25% FDA recommended'; '100% of FDA recommended')\n",
        "*   weight: weight (in ounces) of one serving (serving size) \n",
        "*   cups: cups per serving \n",
        "*   rating: health rating of the cereal out of 100"
      ],
      "id": "ca985076"
    },
    {
      "cell_type": "markdown",
      "metadata": {
        "id": "b5739dbe"
      },
      "source": [
        "First, we import the libraries:\n",
        "\n",
        "*   NumPy - for data manipulation.\n",
        "*   Pandas - for data manipulation.\n",
        "*   MatPlotLib - for data visualization.\n",
        "*   Seaborn - for data visualization.\n",
        "*   SciPy - for correlation stats."
      ],
      "id": "b5739dbe"
    },
    {
      "cell_type": "code",
      "metadata": {
        "id": "2d604014"
      },
      "source": [
        "# importing the libraries\n",
        "import numpy as np\n",
        "import pandas as pd\n",
        "from matplotlib import pyplot as plt\n",
        "import seaborn as sns\n",
        "from scipy import stats"
      ],
      "id": "2d604014",
      "execution_count": 1,
      "outputs": []
    },
    {
      "cell_type": "markdown",
      "metadata": {
        "id": "669307aa"
      },
      "source": [
        "Next, we read the excel file into a Pandas dataframe using the function read_excel() from the Pandas library."
      ],
      "id": "669307aa"
    },
    {
      "cell_type": "code",
      "metadata": {
        "id": "2846cf98"
      },
      "source": [
        "# reading the dataset\n",
        "df = pd.read_excel('Cereals.xls')"
      ],
      "id": "2846cf98",
      "execution_count": 2,
      "outputs": []
    },
    {
      "cell_type": "markdown",
      "metadata": {
        "id": "9a4773d0"
      },
      "source": [
        "After reading the dataset, we view the first few rows of the dataframe using the head() function from the Pandas library."
      ],
      "id": "9a4773d0"
    },
    {
      "cell_type": "code",
      "metadata": {
        "colab": {
          "base_uri": "https://localhost:8080/",
          "height": 206
        },
        "id": "896a8a4f",
        "outputId": "8d4e8a17-2c42-4a72-bea6-35e294cde553"
      },
      "source": [
        "# viewing the first few rows of the dataset\n",
        "# the head() function displays the first 5 rows of the dataframe\n",
        "df.head()"
      ],
      "id": "896a8a4f",
      "execution_count": 3,
      "outputs": [
        {
          "output_type": "execute_result",
          "data": {
            "text/html": [
              "<div>\n",
              "<style scoped>\n",
              "    .dataframe tbody tr th:only-of-type {\n",
              "        vertical-align: middle;\n",
              "    }\n",
              "\n",
              "    .dataframe tbody tr th {\n",
              "        vertical-align: top;\n",
              "    }\n",
              "\n",
              "    .dataframe thead th {\n",
              "        text-align: right;\n",
              "    }\n",
              "</style>\n",
              "<table border=\"1\" class=\"dataframe\">\n",
              "  <thead>\n",
              "    <tr style=\"text-align: right;\">\n",
              "      <th></th>\n",
              "      <th>name</th>\n",
              "      <th>mfr</th>\n",
              "      <th>type</th>\n",
              "      <th>calories</th>\n",
              "      <th>protein</th>\n",
              "      <th>fat</th>\n",
              "      <th>sodium</th>\n",
              "      <th>fiber</th>\n",
              "      <th>carbo</th>\n",
              "      <th>sugars</th>\n",
              "      <th>potass</th>\n",
              "      <th>vitamins</th>\n",
              "      <th>shelf</th>\n",
              "      <th>weight</th>\n",
              "      <th>cups</th>\n",
              "      <th>rating</th>\n",
              "    </tr>\n",
              "  </thead>\n",
              "  <tbody>\n",
              "    <tr>\n",
              "      <th>0</th>\n",
              "      <td>100%_Natural_Bran</td>\n",
              "      <td>Q</td>\n",
              "      <td>C</td>\n",
              "      <td>120</td>\n",
              "      <td>3</td>\n",
              "      <td>5</td>\n",
              "      <td>15</td>\n",
              "      <td>2.0</td>\n",
              "      <td>8.0</td>\n",
              "      <td>8</td>\n",
              "      <td>135</td>\n",
              "      <td>0</td>\n",
              "      <td>3</td>\n",
              "      <td>1.0</td>\n",
              "      <td>1.00</td>\n",
              "      <td>33.983679</td>\n",
              "    </tr>\n",
              "    <tr>\n",
              "      <th>1</th>\n",
              "      <td>All-Bran</td>\n",
              "      <td>K</td>\n",
              "      <td>C</td>\n",
              "      <td>70</td>\n",
              "      <td>4</td>\n",
              "      <td>1</td>\n",
              "      <td>260</td>\n",
              "      <td>9.0</td>\n",
              "      <td>7.0</td>\n",
              "      <td>5</td>\n",
              "      <td>320</td>\n",
              "      <td>25</td>\n",
              "      <td>3</td>\n",
              "      <td>1.0</td>\n",
              "      <td>0.33</td>\n",
              "      <td>59.425505</td>\n",
              "    </tr>\n",
              "    <tr>\n",
              "      <th>2</th>\n",
              "      <td>All-Bran_with_Extra_Fiber</td>\n",
              "      <td>K</td>\n",
              "      <td>C</td>\n",
              "      <td>50</td>\n",
              "      <td>4</td>\n",
              "      <td>0</td>\n",
              "      <td>140</td>\n",
              "      <td>14.0</td>\n",
              "      <td>8.0</td>\n",
              "      <td>0</td>\n",
              "      <td>330</td>\n",
              "      <td>25</td>\n",
              "      <td>3</td>\n",
              "      <td>1.0</td>\n",
              "      <td>0.50</td>\n",
              "      <td>93.704912</td>\n",
              "    </tr>\n",
              "    <tr>\n",
              "      <th>3</th>\n",
              "      <td>Almond_Delight</td>\n",
              "      <td>R</td>\n",
              "      <td>C</td>\n",
              "      <td>110</td>\n",
              "      <td>2</td>\n",
              "      <td>2</td>\n",
              "      <td>200</td>\n",
              "      <td>1.0</td>\n",
              "      <td>14.0</td>\n",
              "      <td>8</td>\n",
              "      <td>-1</td>\n",
              "      <td>25</td>\n",
              "      <td>3</td>\n",
              "      <td>1.0</td>\n",
              "      <td>0.75</td>\n",
              "      <td>34.384843</td>\n",
              "    </tr>\n",
              "    <tr>\n",
              "      <th>4</th>\n",
              "      <td>Apple_Cinnamon_Cheerios</td>\n",
              "      <td>G</td>\n",
              "      <td>C</td>\n",
              "      <td>110</td>\n",
              "      <td>2</td>\n",
              "      <td>2</td>\n",
              "      <td>180</td>\n",
              "      <td>1.5</td>\n",
              "      <td>10.5</td>\n",
              "      <td>10</td>\n",
              "      <td>70</td>\n",
              "      <td>25</td>\n",
              "      <td>1</td>\n",
              "      <td>1.0</td>\n",
              "      <td>0.75</td>\n",
              "      <td>29.509541</td>\n",
              "    </tr>\n",
              "  </tbody>\n",
              "</table>\n",
              "</div>"
            ],
            "text/plain": [
              "                        name mfr type  calories  ...  shelf  weight  cups     rating\n",
              "0          100%_Natural_Bran   Q    C       120  ...      3     1.0  1.00  33.983679\n",
              "1                   All-Bran   K    C        70  ...      3     1.0  0.33  59.425505\n",
              "2  All-Bran_with_Extra_Fiber   K    C        50  ...      3     1.0  0.50  93.704912\n",
              "3             Almond_Delight   R    C       110  ...      3     1.0  0.75  34.384843\n",
              "4    Apple_Cinnamon_Cheerios   G    C       110  ...      1     1.0  0.75  29.509541\n",
              "\n",
              "[5 rows x 16 columns]"
            ]
          },
          "metadata": {},
          "execution_count": 3
        }
      ]
    },
    {
      "cell_type": "markdown",
      "metadata": {
        "id": "143378e4"
      },
      "source": [
        "Now, we start answering the lab questions."
      ],
      "id": "143378e4"
    },
    {
      "cell_type": "markdown",
      "metadata": {
        "id": "e14fe988"
      },
      "source": [
        "#### **Q1.** Create a table with the 5-number summary of all the nutrients."
      ],
      "id": "e14fe988"
    },
    {
      "cell_type": "markdown",
      "metadata": {
        "id": "2QstPT6A4n2J"
      },
      "source": [
        "To solve Question 1, we use the describe() function from the Pandas library on the columns protein, fat, carbo, vitamins, sodium, sugars, potass and fiber. "
      ],
      "id": "2QstPT6A4n2J"
    },
    {
      "cell_type": "code",
      "metadata": {
        "colab": {
          "base_uri": "https://localhost:8080/",
          "height": 300
        },
        "id": "773dc5ca",
        "outputId": "d2d4e17b-dcf0-4021-95c8-d37c08ccbe97"
      },
      "source": [
        "# selecting only the nutrients and displaying the five number summary\n",
        "df[['protein', 'fat', 'carbo', 'vitamins', 'sodium', 'sugars', 'potass', 'fiber']].describe()"
      ],
      "id": "773dc5ca",
      "execution_count": 4,
      "outputs": [
        {
          "output_type": "execute_result",
          "data": {
            "text/html": [
              "<div>\n",
              "<style scoped>\n",
              "    .dataframe tbody tr th:only-of-type {\n",
              "        vertical-align: middle;\n",
              "    }\n",
              "\n",
              "    .dataframe tbody tr th {\n",
              "        vertical-align: top;\n",
              "    }\n",
              "\n",
              "    .dataframe thead th {\n",
              "        text-align: right;\n",
              "    }\n",
              "</style>\n",
              "<table border=\"1\" class=\"dataframe\">\n",
              "  <thead>\n",
              "    <tr style=\"text-align: right;\">\n",
              "      <th></th>\n",
              "      <th>protein</th>\n",
              "      <th>fat</th>\n",
              "      <th>carbo</th>\n",
              "      <th>vitamins</th>\n",
              "      <th>sodium</th>\n",
              "      <th>sugars</th>\n",
              "      <th>potass</th>\n",
              "      <th>fiber</th>\n",
              "    </tr>\n",
              "  </thead>\n",
              "  <tbody>\n",
              "    <tr>\n",
              "      <th>count</th>\n",
              "      <td>76.000000</td>\n",
              "      <td>76.000000</td>\n",
              "      <td>76.000000</td>\n",
              "      <td>76.000000</td>\n",
              "      <td>76.000000</td>\n",
              "      <td>76.000000</td>\n",
              "      <td>76.000000</td>\n",
              "      <td>76.000000</td>\n",
              "    </tr>\n",
              "    <tr>\n",
              "      <th>mean</th>\n",
              "      <td>2.526316</td>\n",
              "      <td>1.013158</td>\n",
              "      <td>14.723684</td>\n",
              "      <td>28.289474</td>\n",
              "      <td>160.065789</td>\n",
              "      <td>6.934211</td>\n",
              "      <td>93.657895</td>\n",
              "      <td>2.048684</td>\n",
              "    </tr>\n",
              "    <tr>\n",
              "      <th>std</th>\n",
              "      <td>1.089020</td>\n",
              "      <td>1.013159</td>\n",
              "      <td>4.160444</td>\n",
              "      <td>22.487813</td>\n",
              "      <td>84.318813</td>\n",
              "      <td>4.473136</td>\n",
              "      <td>68.502565</td>\n",
              "      <td>2.219038</td>\n",
              "    </tr>\n",
              "    <tr>\n",
              "      <th>min</th>\n",
              "      <td>1.000000</td>\n",
              "      <td>0.000000</td>\n",
              "      <td>-1.000000</td>\n",
              "      <td>0.000000</td>\n",
              "      <td>0.000000</td>\n",
              "      <td>-1.000000</td>\n",
              "      <td>-1.000000</td>\n",
              "      <td>0.000000</td>\n",
              "    </tr>\n",
              "    <tr>\n",
              "      <th>25%</th>\n",
              "      <td>2.000000</td>\n",
              "      <td>0.000000</td>\n",
              "      <td>12.000000</td>\n",
              "      <td>25.000000</td>\n",
              "      <td>132.500000</td>\n",
              "      <td>3.000000</td>\n",
              "      <td>40.000000</td>\n",
              "      <td>0.750000</td>\n",
              "    </tr>\n",
              "    <tr>\n",
              "      <th>50%</th>\n",
              "      <td>2.500000</td>\n",
              "      <td>1.000000</td>\n",
              "      <td>14.500000</td>\n",
              "      <td>25.000000</td>\n",
              "      <td>180.000000</td>\n",
              "      <td>7.000000</td>\n",
              "      <td>90.000000</td>\n",
              "      <td>1.750000</td>\n",
              "    </tr>\n",
              "    <tr>\n",
              "      <th>75%</th>\n",
              "      <td>3.000000</td>\n",
              "      <td>2.000000</td>\n",
              "      <td>17.000000</td>\n",
              "      <td>25.000000</td>\n",
              "      <td>212.500000</td>\n",
              "      <td>11.000000</td>\n",
              "      <td>120.000000</td>\n",
              "      <td>3.000000</td>\n",
              "    </tr>\n",
              "    <tr>\n",
              "      <th>max</th>\n",
              "      <td>6.000000</td>\n",
              "      <td>5.000000</td>\n",
              "      <td>23.000000</td>\n",
              "      <td>100.000000</td>\n",
              "      <td>320.000000</td>\n",
              "      <td>15.000000</td>\n",
              "      <td>330.000000</td>\n",
              "      <td>14.000000</td>\n",
              "    </tr>\n",
              "  </tbody>\n",
              "</table>\n",
              "</div>"
            ],
            "text/plain": [
              "         protein        fat      carbo  ...     sugars      potass      fiber\n",
              "count  76.000000  76.000000  76.000000  ...  76.000000   76.000000  76.000000\n",
              "mean    2.526316   1.013158  14.723684  ...   6.934211   93.657895   2.048684\n",
              "std     1.089020   1.013159   4.160444  ...   4.473136   68.502565   2.219038\n",
              "min     1.000000   0.000000  -1.000000  ...  -1.000000   -1.000000   0.000000\n",
              "25%     2.000000   0.000000  12.000000  ...   3.000000   40.000000   0.750000\n",
              "50%     2.500000   1.000000  14.500000  ...   7.000000   90.000000   1.750000\n",
              "75%     3.000000   2.000000  17.000000  ...  11.000000  120.000000   3.000000\n",
              "max     6.000000   5.000000  23.000000  ...  15.000000  330.000000  14.000000\n",
              "\n",
              "[8 rows x 8 columns]"
            ]
          },
          "metadata": {},
          "execution_count": 4
        }
      ]
    },
    {
      "cell_type": "markdown",
      "metadata": {
        "id": "MJXotHXW47pp"
      },
      "source": [
        "As we can see, the minimum values of carbo, sugars and potass is -1, which cannot be possible in a real-life scenario. This is caused by the presence of null values which are represented by -1 in our dataset. Hence, we must deal with them and then do our analysis."
      ],
      "id": "MJXotHXW47pp"
    },
    {
      "cell_type": "markdown",
      "metadata": {
        "id": "49acf16b"
      },
      "source": [
        "#### **Q2.**  For each of the numeric attributes (proteins upto vitamins) , identify and replace all missing data(indicated with -1) with the arithmetic mean of the attribute."
      ],
      "id": "49acf16b"
    },
    {
      "cell_type": "markdown",
      "metadata": {
        "id": "ElGeE1hVaRVe"
      },
      "source": [
        "To solve Question 2, we use the mask() function from the Pandas library. This function first replaces -1 with NA and then fills them with the mean of the rest of the data using the mean() function from the Pandas library."
      ],
      "id": "ElGeE1hVaRVe"
    },
    {
      "cell_type": "code",
      "metadata": {
        "colab": {
          "base_uri": "https://localhost:8080/",
          "height": 206
        },
        "id": "6ee5ab2d",
        "outputId": "e2adc45d-3577-4d2d-fd49-21f43660d157"
      },
      "source": [
        "# filling values -1 with mean\n",
        "df = df.mask(df==-1).fillna(df.mean())\n",
        "df.head()"
      ],
      "id": "6ee5ab2d",
      "execution_count": 5,
      "outputs": [
        {
          "output_type": "execute_result",
          "data": {
            "text/html": [
              "<div>\n",
              "<style scoped>\n",
              "    .dataframe tbody tr th:only-of-type {\n",
              "        vertical-align: middle;\n",
              "    }\n",
              "\n",
              "    .dataframe tbody tr th {\n",
              "        vertical-align: top;\n",
              "    }\n",
              "\n",
              "    .dataframe thead th {\n",
              "        text-align: right;\n",
              "    }\n",
              "</style>\n",
              "<table border=\"1\" class=\"dataframe\">\n",
              "  <thead>\n",
              "    <tr style=\"text-align: right;\">\n",
              "      <th></th>\n",
              "      <th>name</th>\n",
              "      <th>mfr</th>\n",
              "      <th>type</th>\n",
              "      <th>calories</th>\n",
              "      <th>protein</th>\n",
              "      <th>fat</th>\n",
              "      <th>sodium</th>\n",
              "      <th>fiber</th>\n",
              "      <th>carbo</th>\n",
              "      <th>sugars</th>\n",
              "      <th>potass</th>\n",
              "      <th>vitamins</th>\n",
              "      <th>shelf</th>\n",
              "      <th>weight</th>\n",
              "      <th>cups</th>\n",
              "      <th>rating</th>\n",
              "    </tr>\n",
              "  </thead>\n",
              "  <tbody>\n",
              "    <tr>\n",
              "      <th>0</th>\n",
              "      <td>100%_Natural_Bran</td>\n",
              "      <td>Q</td>\n",
              "      <td>C</td>\n",
              "      <td>120</td>\n",
              "      <td>3</td>\n",
              "      <td>5</td>\n",
              "      <td>15</td>\n",
              "      <td>2.0</td>\n",
              "      <td>8.0</td>\n",
              "      <td>8.0</td>\n",
              "      <td>135.000000</td>\n",
              "      <td>0</td>\n",
              "      <td>3</td>\n",
              "      <td>1.0</td>\n",
              "      <td>1.00</td>\n",
              "      <td>33.983679</td>\n",
              "    </tr>\n",
              "    <tr>\n",
              "      <th>1</th>\n",
              "      <td>All-Bran</td>\n",
              "      <td>K</td>\n",
              "      <td>C</td>\n",
              "      <td>70</td>\n",
              "      <td>4</td>\n",
              "      <td>1</td>\n",
              "      <td>260</td>\n",
              "      <td>9.0</td>\n",
              "      <td>7.0</td>\n",
              "      <td>5.0</td>\n",
              "      <td>320.000000</td>\n",
              "      <td>25</td>\n",
              "      <td>3</td>\n",
              "      <td>1.0</td>\n",
              "      <td>0.33</td>\n",
              "      <td>59.425505</td>\n",
              "    </tr>\n",
              "    <tr>\n",
              "      <th>2</th>\n",
              "      <td>All-Bran_with_Extra_Fiber</td>\n",
              "      <td>K</td>\n",
              "      <td>C</td>\n",
              "      <td>50</td>\n",
              "      <td>4</td>\n",
              "      <td>0</td>\n",
              "      <td>140</td>\n",
              "      <td>14.0</td>\n",
              "      <td>8.0</td>\n",
              "      <td>0.0</td>\n",
              "      <td>330.000000</td>\n",
              "      <td>25</td>\n",
              "      <td>3</td>\n",
              "      <td>1.0</td>\n",
              "      <td>0.50</td>\n",
              "      <td>93.704912</td>\n",
              "    </tr>\n",
              "    <tr>\n",
              "      <th>3</th>\n",
              "      <td>Almond_Delight</td>\n",
              "      <td>R</td>\n",
              "      <td>C</td>\n",
              "      <td>110</td>\n",
              "      <td>2</td>\n",
              "      <td>2</td>\n",
              "      <td>200</td>\n",
              "      <td>1.0</td>\n",
              "      <td>14.0</td>\n",
              "      <td>8.0</td>\n",
              "      <td>93.657895</td>\n",
              "      <td>25</td>\n",
              "      <td>3</td>\n",
              "      <td>1.0</td>\n",
              "      <td>0.75</td>\n",
              "      <td>34.384843</td>\n",
              "    </tr>\n",
              "    <tr>\n",
              "      <th>4</th>\n",
              "      <td>Apple_Cinnamon_Cheerios</td>\n",
              "      <td>G</td>\n",
              "      <td>C</td>\n",
              "      <td>110</td>\n",
              "      <td>2</td>\n",
              "      <td>2</td>\n",
              "      <td>180</td>\n",
              "      <td>1.5</td>\n",
              "      <td>10.5</td>\n",
              "      <td>10.0</td>\n",
              "      <td>70.000000</td>\n",
              "      <td>25</td>\n",
              "      <td>1</td>\n",
              "      <td>1.0</td>\n",
              "      <td>0.75</td>\n",
              "      <td>29.509541</td>\n",
              "    </tr>\n",
              "  </tbody>\n",
              "</table>\n",
              "</div>"
            ],
            "text/plain": [
              "                        name mfr type  calories  ...  shelf  weight  cups     rating\n",
              "0          100%_Natural_Bran   Q    C       120  ...      3     1.0  1.00  33.983679\n",
              "1                   All-Bran   K    C        70  ...      3     1.0  0.33  59.425505\n",
              "2  All-Bran_with_Extra_Fiber   K    C        50  ...      3     1.0  0.50  93.704912\n",
              "3             Almond_Delight   R    C       110  ...      3     1.0  0.75  34.384843\n",
              "4    Apple_Cinnamon_Cheerios   G    C       110  ...      1     1.0  0.75  29.509541\n",
              "\n",
              "[5 rows x 16 columns]"
            ]
          },
          "metadata": {},
          "execution_count": 5
        }
      ]
    },
    {
      "cell_type": "markdown",
      "metadata": {
        "id": "492de21f"
      },
      "source": [
        "#### **Q3.**  Create a table with the 5-number summary of all the numeric attributes after treating missing values. Do you think the strategy used in dealing with missing values was effective? "
      ],
      "id": "492de21f"
    },
    {
      "cell_type": "markdown",
      "metadata": {
        "id": "PE8eQN3oaoY2"
      },
      "source": [
        "To solve Question 3, we use the describe() function from the Pandas library on the columns protein, fat, carbo, vitamins, sodium, sugars, potass and fiber. "
      ],
      "id": "PE8eQN3oaoY2"
    },
    {
      "cell_type": "code",
      "metadata": {
        "colab": {
          "base_uri": "https://localhost:8080/",
          "height": 300
        },
        "id": "c4eb2719",
        "outputId": "d51c0387-3a02-4795-a1cf-6bbae21dee4c"
      },
      "source": [
        "# selecting only the numeric datatypes and displaying the five number summary\n",
        "df[['protein', 'fat', 'carbo', 'vitamins', 'sodium', 'sugars', 'potass', 'fiber']].describe()"
      ],
      "id": "c4eb2719",
      "execution_count": 6,
      "outputs": [
        {
          "output_type": "execute_result",
          "data": {
            "text/html": [
              "<div>\n",
              "<style scoped>\n",
              "    .dataframe tbody tr th:only-of-type {\n",
              "        vertical-align: middle;\n",
              "    }\n",
              "\n",
              "    .dataframe tbody tr th {\n",
              "        vertical-align: top;\n",
              "    }\n",
              "\n",
              "    .dataframe thead th {\n",
              "        text-align: right;\n",
              "    }\n",
              "</style>\n",
              "<table border=\"1\" class=\"dataframe\">\n",
              "  <thead>\n",
              "    <tr style=\"text-align: right;\">\n",
              "      <th></th>\n",
              "      <th>protein</th>\n",
              "      <th>fat</th>\n",
              "      <th>carbo</th>\n",
              "      <th>vitamins</th>\n",
              "      <th>sodium</th>\n",
              "      <th>sugars</th>\n",
              "      <th>potass</th>\n",
              "      <th>fiber</th>\n",
              "    </tr>\n",
              "  </thead>\n",
              "  <tbody>\n",
              "    <tr>\n",
              "      <th>count</th>\n",
              "      <td>76.000000</td>\n",
              "      <td>76.000000</td>\n",
              "      <td>76.000000</td>\n",
              "      <td>76.000000</td>\n",
              "      <td>76.000000</td>\n",
              "      <td>76.000000</td>\n",
              "      <td>76.000000</td>\n",
              "      <td>76.000000</td>\n",
              "    </tr>\n",
              "    <tr>\n",
              "      <th>mean</th>\n",
              "      <td>2.526316</td>\n",
              "      <td>1.013158</td>\n",
              "      <td>14.930575</td>\n",
              "      <td>28.289474</td>\n",
              "      <td>160.065789</td>\n",
              "      <td>7.038608</td>\n",
              "      <td>96.148892</td>\n",
              "      <td>2.048684</td>\n",
              "    </tr>\n",
              "    <tr>\n",
              "      <th>std</th>\n",
              "      <td>1.089020</td>\n",
              "      <td>1.013159</td>\n",
              "      <td>3.737575</td>\n",
              "      <td>22.487813</td>\n",
              "      <td>84.318813</td>\n",
              "      <td>4.377048</td>\n",
              "      <td>66.688658</td>\n",
              "      <td>2.219038</td>\n",
              "    </tr>\n",
              "    <tr>\n",
              "      <th>min</th>\n",
              "      <td>1.000000</td>\n",
              "      <td>0.000000</td>\n",
              "      <td>7.000000</td>\n",
              "      <td>0.000000</td>\n",
              "      <td>0.000000</td>\n",
              "      <td>0.000000</td>\n",
              "      <td>15.000000</td>\n",
              "      <td>0.000000</td>\n",
              "    </tr>\n",
              "    <tr>\n",
              "      <th>25%</th>\n",
              "      <td>2.000000</td>\n",
              "      <td>0.000000</td>\n",
              "      <td>12.000000</td>\n",
              "      <td>25.000000</td>\n",
              "      <td>132.500000</td>\n",
              "      <td>3.000000</td>\n",
              "      <td>43.750000</td>\n",
              "      <td>0.750000</td>\n",
              "    </tr>\n",
              "    <tr>\n",
              "      <th>50%</th>\n",
              "      <td>2.500000</td>\n",
              "      <td>1.000000</td>\n",
              "      <td>14.861842</td>\n",
              "      <td>25.000000</td>\n",
              "      <td>180.000000</td>\n",
              "      <td>7.000000</td>\n",
              "      <td>90.000000</td>\n",
              "      <td>1.750000</td>\n",
              "    </tr>\n",
              "    <tr>\n",
              "      <th>75%</th>\n",
              "      <td>3.000000</td>\n",
              "      <td>2.000000</td>\n",
              "      <td>17.000000</td>\n",
              "      <td>25.000000</td>\n",
              "      <td>212.500000</td>\n",
              "      <td>11.000000</td>\n",
              "      <td>120.000000</td>\n",
              "      <td>3.000000</td>\n",
              "    </tr>\n",
              "    <tr>\n",
              "      <th>max</th>\n",
              "      <td>6.000000</td>\n",
              "      <td>5.000000</td>\n",
              "      <td>23.000000</td>\n",
              "      <td>100.000000</td>\n",
              "      <td>320.000000</td>\n",
              "      <td>15.000000</td>\n",
              "      <td>330.000000</td>\n",
              "      <td>14.000000</td>\n",
              "    </tr>\n",
              "  </tbody>\n",
              "</table>\n",
              "</div>"
            ],
            "text/plain": [
              "         protein        fat      carbo  ...     sugars      potass      fiber\n",
              "count  76.000000  76.000000  76.000000  ...  76.000000   76.000000  76.000000\n",
              "mean    2.526316   1.013158  14.930575  ...   7.038608   96.148892   2.048684\n",
              "std     1.089020   1.013159   3.737575  ...   4.377048   66.688658   2.219038\n",
              "min     1.000000   0.000000   7.000000  ...   0.000000   15.000000   0.000000\n",
              "25%     2.000000   0.000000  12.000000  ...   3.000000   43.750000   0.750000\n",
              "50%     2.500000   1.000000  14.861842  ...   7.000000   90.000000   1.750000\n",
              "75%     3.000000   2.000000  17.000000  ...  11.000000  120.000000   3.000000\n",
              "max     6.000000   5.000000  23.000000  ...  15.000000  330.000000  14.000000\n",
              "\n",
              "[8 rows x 8 columns]"
            ]
          },
          "metadata": {},
          "execution_count": 6
        }
      ]
    },
    {
      "cell_type": "markdown",
      "metadata": {
        "id": "0AinG7-7a2YT"
      },
      "source": [
        "As we can see, the minimum values of carbo, sugars and potass are now 7, 0, and 15 respectively. This is possible in real life. Hence, the strategy in dealing with the missing values was effective. However, we see that the maximum values of the columns protein, vitamins, potass and fiber and the minimum values of the columns vitamins and sodium are not on the scale of the Q1, Q2, and Q3 values of the respective columns. This indicates the presence of outliers in the data. Hence, we must deal with them and do our analysis."
      ],
      "id": "0AinG7-7a2YT"
    },
    {
      "cell_type": "markdown",
      "metadata": {
        "id": "03924e13"
      },
      "source": [
        "#### **Q4.** For each of the numeric attributes (proteins upto vitamins), identify and replace all noisy data with the median of attribute. "
      ],
      "id": "03924e13"
    },
    {
      "cell_type": "markdown",
      "metadata": {
        "id": "dWZ8pxXUdyKS"
      },
      "source": [
        "To solve Question 5, we loop over the nutrient columns and find out the Q1, Q2, Q3 and IQR values from the data columns using the quantile() and median() functions from the NumPy and Pandas libraries and then calculate the lower and upper bounds. After that, we replace the outliers, which are outside the lower and upper bounds, with the median of the data using the where() function from the NumPy library."
      ],
      "id": "dWZ8pxXUdyKS"
    },
    {
      "cell_type": "code",
      "metadata": {
        "id": "7820a843"
      },
      "source": [
        "# replacing the outliers with median\n",
        "for column in df[['protein', 'fat', 'carbo', 'vitamins', 'sodium', 'sugars', 'potass', 'fiber']]:\n",
        "    \n",
        "    q1 = np.quantile(df[column], 0.25)\n",
        "    q3 = np.quantile(df[column], 0.75)\n",
        "    iqr = q3 - q1\n",
        "    \n",
        "    upper_bound = q3 + 1.5*iqr\n",
        "    lower_bound = q1 - 1.5*iqr\n",
        "    \n",
        "    q2 = df[column].median()\n",
        "    \n",
        "    df[column] = np.where(df[column]>upper_bound, q2, df[column])\n",
        "    df[column] = np.where(df[column]<lower_bound, q2, df[column])"
      ],
      "id": "7820a843",
      "execution_count": 7,
      "outputs": []
    },
    {
      "cell_type": "markdown",
      "metadata": {
        "id": "e3e57878"
      },
      "source": [
        "#### **Q5.** Create a table with the 5-number summary of all the numeric attributes after treating noisy values. Do you think the strategy used in dealing with noisy values was  effective?"
      ],
      "id": "e3e57878"
    },
    {
      "cell_type": "markdown",
      "metadata": {
        "id": "0YPK6ygR3P0Z"
      },
      "source": [
        "To solve Question 5, we use the describe() function from the Pandas library on the columns protein, fat, carbo, vitamins, sodium, sugars, potass and fiber."
      ],
      "id": "0YPK6ygR3P0Z"
    },
    {
      "cell_type": "code",
      "metadata": {
        "colab": {
          "base_uri": "https://localhost:8080/",
          "height": 300
        },
        "id": "17d9990d",
        "outputId": "a772c61c-dbbf-4870-b4b2-f6c6061e7c7f"
      },
      "source": [
        "# selecting only the numeric datatypes and displaying the five number summary\n",
        "df[['protein', 'fat', 'carbo', 'vitamins', 'sodium', 'sugars', 'potass', 'fiber']].describe()"
      ],
      "id": "17d9990d",
      "execution_count": 8,
      "outputs": [
        {
          "output_type": "execute_result",
          "data": {
            "text/html": [
              "<div>\n",
              "<style scoped>\n",
              "    .dataframe tbody tr th:only-of-type {\n",
              "        vertical-align: middle;\n",
              "    }\n",
              "\n",
              "    .dataframe tbody tr th {\n",
              "        vertical-align: top;\n",
              "    }\n",
              "\n",
              "    .dataframe thead th {\n",
              "        text-align: right;\n",
              "    }\n",
              "</style>\n",
              "<table border=\"1\" class=\"dataframe\">\n",
              "  <thead>\n",
              "    <tr style=\"text-align: right;\">\n",
              "      <th></th>\n",
              "      <th>protein</th>\n",
              "      <th>fat</th>\n",
              "      <th>carbo</th>\n",
              "      <th>vitamins</th>\n",
              "      <th>sodium</th>\n",
              "      <th>sugars</th>\n",
              "      <th>potass</th>\n",
              "      <th>fiber</th>\n",
              "    </tr>\n",
              "  </thead>\n",
              "  <tbody>\n",
              "    <tr>\n",
              "      <th>count</th>\n",
              "      <td>76.000000</td>\n",
              "      <td>76.000000</td>\n",
              "      <td>76.000000</td>\n",
              "      <td>76.0</td>\n",
              "      <td>76.000000</td>\n",
              "      <td>76.000000</td>\n",
              "      <td>76.000000</td>\n",
              "      <td>76.000000</td>\n",
              "    </tr>\n",
              "    <tr>\n",
              "      <th>mean</th>\n",
              "      <td>2.401316</td>\n",
              "      <td>1.013158</td>\n",
              "      <td>14.930575</td>\n",
              "      <td>25.0</td>\n",
              "      <td>181.381579</td>\n",
              "      <td>7.038608</td>\n",
              "      <td>85.754155</td>\n",
              "      <td>1.792105</td>\n",
              "    </tr>\n",
              "    <tr>\n",
              "      <th>std</th>\n",
              "      <td>0.875670</td>\n",
              "      <td>1.013159</td>\n",
              "      <td>3.737575</td>\n",
              "      <td>0.0</td>\n",
              "      <td>60.186370</td>\n",
              "      <td>4.377048</td>\n",
              "      <td>48.049515</td>\n",
              "      <td>1.520220</td>\n",
              "    </tr>\n",
              "    <tr>\n",
              "      <th>min</th>\n",
              "      <td>1.000000</td>\n",
              "      <td>0.000000</td>\n",
              "      <td>7.000000</td>\n",
              "      <td>25.0</td>\n",
              "      <td>15.000000</td>\n",
              "      <td>0.000000</td>\n",
              "      <td>15.000000</td>\n",
              "      <td>0.000000</td>\n",
              "    </tr>\n",
              "    <tr>\n",
              "      <th>25%</th>\n",
              "      <td>2.000000</td>\n",
              "      <td>0.000000</td>\n",
              "      <td>12.000000</td>\n",
              "      <td>25.0</td>\n",
              "      <td>147.500000</td>\n",
              "      <td>3.000000</td>\n",
              "      <td>43.750000</td>\n",
              "      <td>0.750000</td>\n",
              "    </tr>\n",
              "    <tr>\n",
              "      <th>50%</th>\n",
              "      <td>2.250000</td>\n",
              "      <td>1.000000</td>\n",
              "      <td>14.861842</td>\n",
              "      <td>25.0</td>\n",
              "      <td>180.000000</td>\n",
              "      <td>7.000000</td>\n",
              "      <td>90.000000</td>\n",
              "      <td>1.625000</td>\n",
              "    </tr>\n",
              "    <tr>\n",
              "      <th>75%</th>\n",
              "      <td>3.000000</td>\n",
              "      <td>2.000000</td>\n",
              "      <td>17.000000</td>\n",
              "      <td>25.0</td>\n",
              "      <td>212.500000</td>\n",
              "      <td>11.000000</td>\n",
              "      <td>110.000000</td>\n",
              "      <td>3.000000</td>\n",
              "    </tr>\n",
              "    <tr>\n",
              "      <th>max</th>\n",
              "      <td>4.000000</td>\n",
              "      <td>5.000000</td>\n",
              "      <td>23.000000</td>\n",
              "      <td>25.0</td>\n",
              "      <td>320.000000</td>\n",
              "      <td>15.000000</td>\n",
              "      <td>230.000000</td>\n",
              "      <td>6.000000</td>\n",
              "    </tr>\n",
              "  </tbody>\n",
              "</table>\n",
              "</div>"
            ],
            "text/plain": [
              "         protein        fat      carbo  ...     sugars      potass      fiber\n",
              "count  76.000000  76.000000  76.000000  ...  76.000000   76.000000  76.000000\n",
              "mean    2.401316   1.013158  14.930575  ...   7.038608   85.754155   1.792105\n",
              "std     0.875670   1.013159   3.737575  ...   4.377048   48.049515   1.520220\n",
              "min     1.000000   0.000000   7.000000  ...   0.000000   15.000000   0.000000\n",
              "25%     2.000000   0.000000  12.000000  ...   3.000000   43.750000   0.750000\n",
              "50%     2.250000   1.000000  14.861842  ...   7.000000   90.000000   1.625000\n",
              "75%     3.000000   2.000000  17.000000  ...  11.000000  110.000000   3.000000\n",
              "max     4.000000   5.000000  23.000000  ...  15.000000  230.000000   6.000000\n",
              "\n",
              "[8 rows x 8 columns]"
            ]
          },
          "metadata": {},
          "execution_count": 8
        }
      ]
    },
    {
      "cell_type": "markdown",
      "metadata": {
        "id": "zBAN2oz73Rp6"
      },
      "source": [
        "As we can see, the minimum and maximum values are now within the scale of the Q1, Q2, and Q3 values of all the columns. Hence, the strategy of dealing with outliers was effective."
      ],
      "id": "zBAN2oz73Rp6"
    },
    {
      "cell_type": "markdown",
      "metadata": {
        "id": "33iqL7aT3i4A"
      },
      "source": [
        "Hence, the data has now been pre-processed - we have replaced the missing values with the mean of the data and the outliers with the median of the data. Now, we will proceed with the analysis."
      ],
      "id": "33iqL7aT3i4A"
    },
    {
      "cell_type": "markdown",
      "metadata": {
        "id": "34576997"
      },
      "source": [
        "#### **Q6.** Cross tabulate the type of cereal (hot vs cold) against the manufacturer"
      ],
      "id": "34576997"
    },
    {
      "cell_type": "markdown",
      "metadata": {
        "id": "H9Hnhcd67Yy3"
      },
      "source": [
        "To solve Question 6, we use the crosstab() function from the Pandas library and pass the columns mfr and type."
      ],
      "id": "H9Hnhcd67Yy3"
    },
    {
      "cell_type": "code",
      "metadata": {
        "colab": {
          "base_uri": "https://localhost:8080/",
          "height": 300
        },
        "id": "41be4732",
        "outputId": "9c210a1a-84ec-4082-a039-cdef5d3b89c9"
      },
      "source": [
        "# cross-tabulation\n",
        "pd.crosstab(df.mfr, df.type)"
      ],
      "id": "41be4732",
      "execution_count": 9,
      "outputs": [
        {
          "output_type": "execute_result",
          "data": {
            "text/html": [
              "<div>\n",
              "<style scoped>\n",
              "    .dataframe tbody tr th:only-of-type {\n",
              "        vertical-align: middle;\n",
              "    }\n",
              "\n",
              "    .dataframe tbody tr th {\n",
              "        vertical-align: top;\n",
              "    }\n",
              "\n",
              "    .dataframe thead th {\n",
              "        text-align: right;\n",
              "    }\n",
              "</style>\n",
              "<table border=\"1\" class=\"dataframe\">\n",
              "  <thead>\n",
              "    <tr style=\"text-align: right;\">\n",
              "      <th>type</th>\n",
              "      <th>C</th>\n",
              "      <th>H</th>\n",
              "    </tr>\n",
              "    <tr>\n",
              "      <th>mfr</th>\n",
              "      <th></th>\n",
              "      <th></th>\n",
              "    </tr>\n",
              "  </thead>\n",
              "  <tbody>\n",
              "    <tr>\n",
              "      <th>A</th>\n",
              "      <td>0</td>\n",
              "      <td>1</td>\n",
              "    </tr>\n",
              "    <tr>\n",
              "      <th>G</th>\n",
              "      <td>22</td>\n",
              "      <td>0</td>\n",
              "    </tr>\n",
              "    <tr>\n",
              "      <th>K</th>\n",
              "      <td>23</td>\n",
              "      <td>0</td>\n",
              "    </tr>\n",
              "    <tr>\n",
              "      <th>N</th>\n",
              "      <td>4</td>\n",
              "      <td>1</td>\n",
              "    </tr>\n",
              "    <tr>\n",
              "      <th>P</th>\n",
              "      <td>9</td>\n",
              "      <td>0</td>\n",
              "    </tr>\n",
              "    <tr>\n",
              "      <th>Q</th>\n",
              "      <td>7</td>\n",
              "      <td>1</td>\n",
              "    </tr>\n",
              "    <tr>\n",
              "      <th>R</th>\n",
              "      <td>8</td>\n",
              "      <td>0</td>\n",
              "    </tr>\n",
              "  </tbody>\n",
              "</table>\n",
              "</div>"
            ],
            "text/plain": [
              "type   C  H\n",
              "mfr        \n",
              "A      0  1\n",
              "G     22  0\n",
              "K     23  0\n",
              "N      4  1\n",
              "P      9  0\n",
              "Q      7  1\n",
              "R      8  0"
            ]
          },
          "metadata": {},
          "execution_count": 9
        }
      ]
    },
    {
      "cell_type": "markdown",
      "metadata": {
        "id": "xchYCIjK7ku6"
      },
      "source": [
        "As we can see, there are:\n",
        "*   0 cold and 1 hot cereals that American Home Food Products sells.\n",
        "*   22 cold and 0 hot cereals that General Mills sells.\n",
        "*   23 cold and 0 hot cereals that Kelloggs sells.\n",
        "*   4 cold and 1 hot cereals that Nabisco sells.\n",
        "*   9 cold and 0 hot cereals that Post sells.\n",
        "*   7 cold and 1 hot cereals that Quaker Oats sells.\n",
        "*   8 cold and 0 hot cereals that Ralston Purina sells."
      ],
      "id": "xchYCIjK7ku6"
    },
    {
      "cell_type": "markdown",
      "metadata": {
        "id": "c132faf1"
      },
      "source": [
        "#### **Q7.** Which is the cereal with the best rating, worst rating?"
      ],
      "id": "c132faf1"
    },
    {
      "cell_type": "markdown",
      "metadata": {
        "id": "-RUrrd7W8Tkb"
      },
      "source": [
        "To solve part a of Question 7, we filter the dataframe with the condition that the rating observation matches the maximum value of the rating. In this filtered dataframe, we check the observation in the name column. "
      ],
      "id": "-RUrrd7W8Tkb"
    },
    {
      "cell_type": "code",
      "metadata": {
        "colab": {
          "base_uri": "https://localhost:8080/"
        },
        "id": "218484b8",
        "outputId": "496b82a2-f425-4e1c-a97a-f81e18ef6bc1"
      },
      "source": [
        "# best rating\n",
        "df[df.rating==df.rating.max()].name"
      ],
      "id": "218484b8",
      "execution_count": 10,
      "outputs": [
        {
          "output_type": "execute_result",
          "data": {
            "text/plain": [
              "2    All-Bran_with_Extra_Fiber\n",
              "Name: name, dtype: object"
            ]
          },
          "metadata": {},
          "execution_count": 10
        }
      ]
    },
    {
      "cell_type": "markdown",
      "metadata": {
        "id": "P3LXIRV-8hH3"
      },
      "source": [
        "As we can see, All-Bran_with_Extra_Fiber has the best rating."
      ],
      "id": "P3LXIRV-8hH3"
    },
    {
      "cell_type": "markdown",
      "metadata": {
        "id": "Fr41Y7wL806W"
      },
      "source": [
        "To solve part b of Question 7, we filter the dataframe with the condition that the rating observation matches the minimum value of the rating. In this filtered dataframe, we check the observation in the name column. "
      ],
      "id": "Fr41Y7wL806W"
    },
    {
      "cell_type": "code",
      "metadata": {
        "colab": {
          "base_uri": "https://localhost:8080/"
        },
        "id": "f68de616",
        "outputId": "20943d49-13b8-44d1-8b28-6e3c5b350320"
      },
      "source": [
        "# worst rating\n",
        "df[df.rating==df.rating.min()].name"
      ],
      "id": "f68de616",
      "execution_count": 11,
      "outputs": [
        {
          "output_type": "execute_result",
          "data": {
            "text/plain": [
              "9    Cap'n'Crunch\n",
              "Name: name, dtype: object"
            ]
          },
          "metadata": {},
          "execution_count": 11
        }
      ]
    },
    {
      "cell_type": "markdown",
      "metadata": {
        "id": "GDGMyZYC8461"
      },
      "source": [
        "As we can see, Cap'n'Crunch has the worst rating."
      ],
      "id": "GDGMyZYC8461"
    },
    {
      "cell_type": "markdown",
      "metadata": {
        "id": "2cf8f8cb"
      },
      "source": [
        "#### **Q8.** Plot a side-by-side boxplot comparing the consumer rating of hot vs. cold cereals. "
      ],
      "id": "2cf8f8cb"
    },
    {
      "cell_type": "markdown",
      "metadata": {
        "id": "m59C8IBC9OED"
      },
      "source": [
        "To solve Question 8, we use the boxplot() function from the Seaborn library and pass the values type to be plotted on the x-axis and rating to be plotted on the y-axis."
      ],
      "id": "m59C8IBC9OED"
    },
    {
      "cell_type": "code",
      "metadata": {
        "colab": {
          "base_uri": "https://localhost:8080/",
          "height": 296
        },
        "id": "239146df",
        "outputId": "080bb4e5-b853-4eee-e102-ed6df300a31d"
      },
      "source": [
        "# boxplot of consumer rating vs type\n",
        "sns.boxplot(x='type', y='rating', data=df)"
      ],
      "id": "239146df",
      "execution_count": 12,
      "outputs": [
        {
          "output_type": "execute_result",
          "data": {
            "text/plain": [
              "<matplotlib.axes._subplots.AxesSubplot at 0x7fe0138ee190>"
            ]
          },
          "metadata": {},
          "execution_count": 12
        },
        {
          "output_type": "display_data",
          "data": {
            "image/png": "[encoded data removed]",
            "text/plain": [
              "<Figure size 432x288 with 1 Axes>"
            ]
          },
          "metadata": {
            "needs_background": "light"
          }
        }
      ]
    },
    {
      "cell_type": "markdown",
      "metadata": {
        "id": "36bGk_uM9irG"
      },
      "source": [
        "As we can see, the boxplot() function plots boxplots for each cereal type in different colours to make it easily distinguishable. The cold type cereal has one outlier in the higher range and is right skewed with a wider distribution. The hot type cereal has no outliers and has a more or less normal distribution with a narrower distribution."
      ],
      "id": "36bGk_uM9irG"
    },
    {
      "cell_type": "markdown",
      "metadata": {
        "id": "c9749343"
      },
      "source": [
        "#### **Q9.** Is there a relation between sugars, calories, carbs, and fat?"
      ],
      "id": "c9749343"
    },
    {
      "cell_type": "markdown",
      "metadata": {
        "id": "Mr7qNhX3bv6w"
      },
      "source": [
        "To solve Question 9, use the pearson's correlation, as all the variables are continuous. To do this, we use the corr() function from the Pandas library."
      ],
      "id": "Mr7qNhX3bv6w"
    },
    {
      "cell_type": "code",
      "metadata": {
        "colab": {
          "base_uri": "https://localhost:8080/",
          "height": 174
        },
        "id": "1080cfd3",
        "outputId": "9ee7b9a3-ce3b-425a-c3c8-c4ea80e8cc2a"
      },
      "source": [
        "# pearson's correlation value\n",
        "corr = df[['sugars', 'calories', 'carbo', 'fat']].corr()\n",
        "corr"
      ],
      "id": "1080cfd3",
      "execution_count": 13,
      "outputs": [
        {
          "output_type": "execute_result",
          "data": {
            "text/html": [
              "<div>\n",
              "<style scoped>\n",
              "    .dataframe tbody tr th:only-of-type {\n",
              "        vertical-align: middle;\n",
              "    }\n",
              "\n",
              "    .dataframe tbody tr th {\n",
              "        vertical-align: top;\n",
              "    }\n",
              "\n",
              "    .dataframe thead th {\n",
              "        text-align: right;\n",
              "    }\n",
              "</style>\n",
              "<table border=\"1\" class=\"dataframe\">\n",
              "  <thead>\n",
              "    <tr style=\"text-align: right;\">\n",
              "      <th></th>\n",
              "      <th>sugars</th>\n",
              "      <th>calories</th>\n",
              "      <th>carbo</th>\n",
              "      <th>fat</th>\n",
              "    </tr>\n",
              "  </thead>\n",
              "  <tbody>\n",
              "    <tr>\n",
              "      <th>sugars</th>\n",
              "      <td>1.000000</td>\n",
              "      <td>0.574304</td>\n",
              "      <td>-0.501056</td>\n",
              "      <td>0.300349</td>\n",
              "    </tr>\n",
              "    <tr>\n",
              "      <th>calories</th>\n",
              "      <td>0.574304</td>\n",
              "      <td>1.000000</td>\n",
              "      <td>0.207615</td>\n",
              "      <td>0.510630</td>\n",
              "    </tr>\n",
              "    <tr>\n",
              "      <th>carbo</th>\n",
              "      <td>-0.501056</td>\n",
              "      <td>0.207615</td>\n",
              "      <td>1.000000</td>\n",
              "      <td>-0.312341</td>\n",
              "    </tr>\n",
              "    <tr>\n",
              "      <th>fat</th>\n",
              "      <td>0.300349</td>\n",
              "      <td>0.510630</td>\n",
              "      <td>-0.312341</td>\n",
              "      <td>1.000000</td>\n",
              "    </tr>\n",
              "  </tbody>\n",
              "</table>\n",
              "</div>"
            ],
            "text/plain": [
              "            sugars  calories     carbo       fat\n",
              "sugars    1.000000  0.574304 -0.501056  0.300349\n",
              "calories  0.574304  1.000000  0.207615  0.510630\n",
              "carbo    -0.501056  0.207615  1.000000 -0.312341\n",
              "fat       0.300349  0.510630 -0.312341  1.000000"
            ]
          },
          "metadata": {},
          "execution_count": 13
        }
      ]
    },
    {
      "cell_type": "markdown",
      "metadata": {
        "id": "n2xoMKgEb9Z3"
      },
      "source": [
        "As we can see: \n",
        "*   The variables sugars and calories have a moderate degree of positive linear correlation, having correlation coefficient 0.57.\n",
        "*   The variables sugars and carbo have a moderate degree of negative linear correlation, having correlation coefficient -0.50.\n",
        "*   The variables sugars and fat have only the possibility of positive linear correlation, having correlation coefficient 0.30.\n",
        "*   The variables calories and carbo have only the possibility of positive linear correlation, having correlation coefficient 0.21.\n",
        "*   The variables calories and fat have a moderate degree of positive linear correlation, having correlation coefficient 0.51.\n",
        "*   The variables carbo and fat have only the possibility of negative linear correlation, having correlation coefficient -0.31."
      ],
      "id": "n2xoMKgEb9Z3"
    },
    {
      "cell_type": "markdown",
      "metadata": {
        "id": "2PJazukSvkY_"
      },
      "source": [
        "To visualize the correlation, we use the heatmap() function from the Seaborn library."
      ],
      "id": "2PJazukSvkY_"
    },
    {
      "cell_type": "code",
      "metadata": {
        "colab": {
          "base_uri": "https://localhost:8080/",
          "height": 286
        },
        "id": "6ab99ce9",
        "outputId": "7f0808a6-375a-42c9-cfdc-8e42d83aa936"
      },
      "source": [
        "# visualizing\n",
        "sns.heatmap(corr, annot=True)"
      ],
      "id": "6ab99ce9",
      "execution_count": 14,
      "outputs": [
        {
          "output_type": "execute_result",
          "data": {
            "text/plain": [
              "<matplotlib.axes._subplots.AxesSubplot at 0x7fe012cf4290>"
            ]
          },
          "metadata": {},
          "execution_count": 14
        },
        {
          "output_type": "display_data",
          "data": {
            "image/png": "[encoded data removed]",
            "text/plain": [
              "<Figure size 432x288 with 2 Axes>"
            ]
          },
          "metadata": {
            "needs_background": "light"
          }
        }
      ]
    },
    {
      "cell_type": "markdown",
      "metadata": {
        "id": "sa2mnXL1diat"
      },
      "source": [
        "As we can see: \n",
        "*   The variables sugars and calories have a moderate degree of positive linear correlation, having correlation coefficient 0.57.\n",
        "*   The variables sugars and carbo have a moderate degree of negative linear correlation, having correlation coefficient -0.50.\n",
        "*   The variables sugars and fat have only the possibility of positive linear correlation, having correlation coefficient 0.30.\n",
        "*   The variables calories and carbo have only the possibility of positive linear correlation, having correlation coefficient 0.21.\n",
        "*   The variables calories and fat have a moderate degree of positive linear correlation, having correlation coefficient 0.51.\n",
        "*   The variables carbo and fat have only the possibility of negative linear correlation, having correlation coefficient -0.31."
      ],
      "id": "sa2mnXL1diat"
    },
    {
      "cell_type": "markdown",
      "metadata": {
        "id": "Ye_u4NNzvt2B"
      },
      "source": [
        "To visualize the correlation, we also use the pairplot() function from the Seaborn library."
      ],
      "id": "Ye_u4NNzvt2B"
    },
    {
      "cell_type": "code",
      "metadata": {
        "colab": {
          "base_uri": "https://localhost:8080/",
          "height": 743
        },
        "id": "xhYYo9HFdNcN",
        "outputId": "809dd920-e9a2-4444-dca8-a3771eac4cc0"
      },
      "source": [
        "# visualization\n",
        "sns.pairplot(df[['sugars', 'calories', 'carbo', 'fat']])"
      ],
      "id": "xhYYo9HFdNcN",
      "execution_count": 15,
      "outputs": [
        {
          "output_type": "execute_result",
          "data": {
            "text/plain": [
              "<seaborn.axisgrid.PairGrid at 0x7fe009fa4790>"
            ]
          },
          "metadata": {},
          "execution_count": 15
        },
        {
          "output_type": "display_data",
          "data": {
            "image/png": "[encoded data removed]",
            "text/plain": [
              "<Figure size 720x720 with 20 Axes>"
            ]
          },
          "metadata": {
            "needs_background": "light"
          }
        }
      ]
    },
    {
      "cell_type": "markdown",
      "metadata": {
        "id": "xCtbTb3zdpo7"
      },
      "source": [
        "As we can see: \n",
        "*   The variables sugars and calories have a moderate degree of positive linear correlation.\n",
        "*   The variables sugars and carbo have a moderate degree of negative linear correlation.\n",
        "*   The variables sugars and fat have only the possibility of positive linear correlation.\n",
        "*   The variables calories and carbo have only the possibility of positive linear correlation.\n",
        "*   The variables calories and fat have a moderate degree of positive linear correlation.\n",
        "*   The variables carbo and fat have only the possibility of negative linear correlation."
      ],
      "id": "xCtbTb3zdpo7"
    },
    {
      "cell_type": "markdown",
      "metadata": {
        "id": "2b07efea"
      },
      "source": [
        "#### **Q10.** Which manufacturers produce cereal with highest calories?"
      ],
      "id": "2b07efea"
    },
    {
      "cell_type": "markdown",
      "metadata": {
        "id": "OLTwx7EJd4Wn"
      },
      "source": [
        "To solve Question 10, we filter the dataframe with the condition that the calories observation matches the maximum value of calories. In this filtered dataframe, we check the observation in the mfr column."
      ],
      "id": "OLTwx7EJd4Wn"
    },
    {
      "cell_type": "code",
      "metadata": {
        "colab": {
          "base_uri": "https://localhost:8080/"
        },
        "id": "75a99a41",
        "outputId": "74634d62-7e93-407a-de45-3c9c58df98d3"
      },
      "source": [
        "# manufacturers with highest calories\n",
        "df[df.calories==df.calories.max()].mfr"
      ],
      "id": "75a99a41",
      "execution_count": 16,
      "outputs": [
        {
          "output_type": "execute_result",
          "data": {
            "text/plain": [
              "45    K\n",
              "Name: mfr, dtype: object"
            ]
          },
          "metadata": {},
          "execution_count": 16
        }
      ]
    },
    {
      "cell_type": "markdown",
      "metadata": {
        "id": "OkjNz9E_eYJt"
      },
      "source": [
        "As we can see, Kelloggs produces the cereal with the highest calories."
      ],
      "id": "OkjNz9E_eYJt"
    },
    {
      "cell_type": "markdown",
      "metadata": {
        "id": "38d8d1fa"
      },
      "source": [
        "#### **Q11.** Use correlation tests and visualization to identify if the two variables calories and consumer rating associated ?"
      ],
      "id": "38d8d1fa"
    },
    {
      "cell_type": "markdown",
      "metadata": {
        "id": "04EDmRJAsgiM"
      },
      "source": [
        "To solve Question 11, we use the ANOVA test, since one variable - calories is discrete and one variable - rating is continuous. Here, the Null Hypothesis is that the ratings are not affected by the calories (sample means are equal) and the Alternate Hypothesis is that the ratings are affected by the calories (sample means are not equal). To do so, we use the f_oneway() function from the SciPy Stats library and group the ratings by calories."
      ],
      "id": "04EDmRJAsgiM"
    },
    {
      "cell_type": "code",
      "metadata": {
        "colab": {
          "base_uri": "https://localhost:8080/"
        },
        "id": "8dccde42",
        "outputId": "6feaa891-fc71-4782-99d5-00de93139761"
      },
      "source": [
        "# anova test\n",
        "F, p = stats.f_oneway(df[df.calories==50].rating, df[df.calories==70].rating, df[df.calories==80].rating, df[df.calories==90].rating, df[df.calories==100].rating, df[df.calories==110].rating, df[df.calories==120].rating, df[df.calories==130].rating, df[df.calories==140].rating, df[df.calories==150].rating, df[df.calories==160].rating)\n",
        "print('F-critical: 2.79')\n",
        "print('F-calculated: ', F)"
      ],
      "id": "8dccde42",
      "execution_count": 17,
      "outputs": [
        {
          "output_type": "stream",
          "name": "stdout",
          "text": [
            "F-critical: 2.79\n",
            "F-calculated:  11.448496433877295\n"
          ]
        }
      ]
    },
    {
      "cell_type": "markdown",
      "metadata": {
        "id": "8PkC7nI9srSL"
      },
      "source": [
        "As we can see, the calculate F-statistic value is greater than the critical F-statistic value for the dof. Hence, we reject the Null Hypothesis and accept the Alternate Hypothesis which states that the variables calories and rating are associated."
      ],
      "id": "8PkC7nI9srSL"
    },
    {
      "cell_type": "markdown",
      "metadata": {
        "id": "8JKH6sVeuRwj"
      },
      "source": [
        "To visualize the relation, we find the mean ratings of all the values of calories and then make a scatterplot using the scatterplot() function from the Seaborn library."
      ],
      "id": "8JKH6sVeuRwj"
    },
    {
      "cell_type": "code",
      "metadata": {
        "colab": {
          "base_uri": "https://localhost:8080/",
          "height": 282
        },
        "id": "36a70a6f",
        "outputId": "1ca5456e-f79d-4832-ab94-553a4c60d1d0"
      },
      "source": [
        "# visualization\n",
        "ratings_mean = list(df.groupby(by='calories').rating.mean())\n",
        "calories = list(df.calories.unique())\n",
        "calories.sort()\n",
        "\n",
        "sns.scatterplot(x=calories, y=ratings_mean)"
      ],
      "id": "36a70a6f",
      "execution_count": 18,
      "outputs": [
        {
          "output_type": "execute_result",
          "data": {
            "text/plain": [
              "<matplotlib.axes._subplots.AxesSubplot at 0x7fe009867050>"
            ]
          },
          "metadata": {},
          "execution_count": 18
        },
        {
          "output_type": "display_data",
          "data": {
            "image/png": "[encoded data removed]",
            "text/plain": [
              "<Figure size 432x288 with 1 Axes>"
            ]
          },
          "metadata": {
            "needs_background": "light"
          }
        }
      ]
    },
    {
      "cell_type": "markdown",
      "metadata": {
        "id": "eoQRTAJZub-a"
      },
      "source": [
        "As we can see, as the calories increase, the ratings decrease, indicating a negative correlation."
      ],
      "id": "eoQRTAJZub-a"
    },
    {
      "cell_type": "markdown",
      "metadata": {
        "id": "39a3e5b3"
      },
      "source": [
        "#### **Q12.** Use correlation tests and visualization to identify if the two variables shelf and calories associated?"
      ],
      "id": "39a3e5b3"
    },
    {
      "cell_type": "markdown",
      "metadata": {
        "id": "VzAa4SV9fY4w"
      },
      "source": [
        "To solve Question 12, we use the Chi-Squared Test, since the variables calories and shelf are discrete. Here the Null Hypothesis is that the variables are independent, and the Alternate Hypothesis is that they are dependent.\n",
        "\n",
        "To do this, first we form a contingency table using the crosstab() function from the Pandas library."
      ],
      "id": "VzAa4SV9fY4w"
    },
    {
      "cell_type": "code",
      "metadata": {
        "colab": {
          "base_uri": "https://localhost:8080/",
          "height": 174
        },
        "id": "e1145e67",
        "outputId": "1620a3f5-e493-4178-9521-b579ee97849e"
      },
      "source": [
        "# chi-square test\n",
        "contingency = pd.crosstab(df.shelf, df.calories)\n",
        "contingency"
      ],
      "id": "e1145e67",
      "execution_count": 19,
      "outputs": [
        {
          "output_type": "execute_result",
          "data": {
            "text/html": [
              "<div>\n",
              "<style scoped>\n",
              "    .dataframe tbody tr th:only-of-type {\n",
              "        vertical-align: middle;\n",
              "    }\n",
              "\n",
              "    .dataframe tbody tr th {\n",
              "        vertical-align: top;\n",
              "    }\n",
              "\n",
              "    .dataframe thead th {\n",
              "        text-align: right;\n",
              "    }\n",
              "</style>\n",
              "<table border=\"1\" class=\"dataframe\">\n",
              "  <thead>\n",
              "    <tr style=\"text-align: right;\">\n",
              "      <th>calories</th>\n",
              "      <th>50</th>\n",
              "      <th>70</th>\n",
              "      <th>80</th>\n",
              "      <th>90</th>\n",
              "      <th>100</th>\n",
              "      <th>110</th>\n",
              "      <th>120</th>\n",
              "      <th>130</th>\n",
              "      <th>140</th>\n",
              "      <th>150</th>\n",
              "      <th>160</th>\n",
              "    </tr>\n",
              "    <tr>\n",
              "      <th>shelf</th>\n",
              "      <th></th>\n",
              "      <th></th>\n",
              "      <th></th>\n",
              "      <th></th>\n",
              "      <th></th>\n",
              "      <th></th>\n",
              "      <th></th>\n",
              "      <th></th>\n",
              "      <th></th>\n",
              "      <th></th>\n",
              "      <th></th>\n",
              "    </tr>\n",
              "  </thead>\n",
              "  <tbody>\n",
              "    <tr>\n",
              "      <th>1</th>\n",
              "      <td>0</td>\n",
              "      <td>0</td>\n",
              "      <td>1</td>\n",
              "      <td>3</td>\n",
              "      <td>6</td>\n",
              "      <td>10</td>\n",
              "      <td>0</td>\n",
              "      <td>0</td>\n",
              "      <td>0</td>\n",
              "      <td>0</td>\n",
              "      <td>0</td>\n",
              "    </tr>\n",
              "    <tr>\n",
              "      <th>2</th>\n",
              "      <td>0</td>\n",
              "      <td>0</td>\n",
              "      <td>0</td>\n",
              "      <td>1</td>\n",
              "      <td>4</td>\n",
              "      <td>11</td>\n",
              "      <td>5</td>\n",
              "      <td>0</td>\n",
              "      <td>0</td>\n",
              "      <td>0</td>\n",
              "      <td>0</td>\n",
              "    </tr>\n",
              "    <tr>\n",
              "      <th>3</th>\n",
              "      <td>3</td>\n",
              "      <td>1</td>\n",
              "      <td>0</td>\n",
              "      <td>3</td>\n",
              "      <td>7</td>\n",
              "      <td>8</td>\n",
              "      <td>5</td>\n",
              "      <td>2</td>\n",
              "      <td>3</td>\n",
              "      <td>2</td>\n",
              "      <td>1</td>\n",
              "    </tr>\n",
              "  </tbody>\n",
              "</table>\n",
              "</div>"
            ],
            "text/plain": [
              "calories  50   70   80   90   100  110  120  130  140  150  160\n",
              "shelf                                                          \n",
              "1           0    0    1    3    6   10    0    0    0    0    0\n",
              "2           0    0    0    1    4   11    5    0    0    0    0\n",
              "3           3    1    0    3    7    8    5    2    3    2    1"
            ]
          },
          "metadata": {},
          "execution_count": 19
        }
      ]
    },
    {
      "cell_type": "markdown",
      "metadata": {
        "id": "B8YmYWq_h7Mx"
      },
      "source": [
        "As we can see, on shelf:    \n",
        "*  1, there are 1 80 cal, 3 90 cal, 6 100 cal, and 10 110 cal cereals.\n",
        "*  2, there are 1 90 cal, 4 100 cal, 11 110 cal, and 5 120 cal cereals.\n",
        "*  3, there are 3 50 cal, 1 70 cal, 3 90 cal, 7 100 cal, 8 110 cal, 5 120 cal, 2 130 cal, 3 140 cal, 2 150 cal, and 1 160 cal cereals."
      ],
      "id": "B8YmYWq_h7Mx"
    },
    {
      "cell_type": "code",
      "metadata": {
        "colab": {
          "base_uri": "https://localhost:8080/",
          "height": 296
        },
        "id": "a4d59d25",
        "outputId": "52448884-492a-4ccf-c1b1-831b8c71872a"
      },
      "source": [
        "# visualization\n",
        "sns.heatmap(contingency, annot=True)"
      ],
      "id": "a4d59d25",
      "execution_count": 20,
      "outputs": [
        {
          "output_type": "execute_result",
          "data": {
            "text/plain": [
              "<matplotlib.axes._subplots.AxesSubplot at 0x7fe00977e9d0>"
            ]
          },
          "metadata": {},
          "execution_count": 20
        },
        {
          "output_type": "display_data",
          "data": {
            "image/png": "[encoded data removed]",
            "text/plain": [
              "<Figure size 432x288 with 2 Axes>"
            ]
          },
          "metadata": {
            "needs_background": "light"
          }
        }
      ]
    },
    {
      "cell_type": "markdown",
      "metadata": {
        "id": "4kWW59kDidg1"
      },
      "source": [
        "As we can see, on shelf:    \n",
        "*  1, there are 1 80 cal, 3 90 cal, 6 100 cal, and 10 110 cal cereals.\n",
        "*  2, there are 1 90 cal, 4 100 cal, 11 110 cal, and 5 120 cal cereals.\n",
        "*  3, there are 3 50 cal, 1 70 cal, 3 90 cal, 7 100 cal, 8 110 cal, 5 120 cal, 2 130 cal, 3 140 cal, 2 150 cal, and 1 160 cal cereals."
      ],
      "id": "4kWW59kDidg1"
    },
    {
      "cell_type": "markdown",
      "metadata": {
        "id": "kCl0_RuSifcg"
      },
      "source": [
        "Next, we perform the Chi-Squared Test using the chi2_contingency() function from the SciPy Stats library. "
      ],
      "id": "kCl0_RuSifcg"
    },
    {
      "cell_type": "code",
      "metadata": {
        "colab": {
          "base_uri": "https://localhost:8080/"
        },
        "id": "2f682e91",
        "outputId": "44054a3d-0b1d-4a73-ef59-81b7349d5682"
      },
      "source": [
        "# chi-square test\n",
        "c, p, dof, expected = stats.chi2_contingency(contingency)\n",
        "print('p-value: ', p)"
      ],
      "id": "2f682e91",
      "execution_count": 21,
      "outputs": [
        {
          "output_type": "stream",
          "name": "stdout",
          "text": [
            "p-value:  0.12876294513924283\n"
          ]
        }
      ]
    },
    {
      "cell_type": "markdown",
      "metadata": {
        "id": "UaRx2rLoieo3"
      },
      "source": [
        "Since the p-value returned is more than 0.05, we reject the Null Hypothesis, and accept the Alternate Hypothesis that states that the variables shelf and calories are related."
      ],
      "id": "UaRx2rLoieo3"
    },
    {
      "cell_type": "markdown",
      "metadata": {
        "id": "58915197"
      },
      "source": [
        "#### **Q13.** Is there a relation between manufacturer and rating?"
      ],
      "id": "58915197"
    },
    {
      "cell_type": "markdown",
      "metadata": {
        "id": "no_ehiWyi-HX"
      },
      "source": [
        "To solve Question 13, we use the ANOVA test, since one variable - manufacturer is categorical and one variable - rating is continuous. Here, the Null Hypothesis is that the ratings are not affected by the manufacturer (sample means are equal) and the Alternate Hypothesis is that the ratings are affected by the manufacturer (sample means are not equal). To do so, we use the f_oneway() function from the SciPy Stats library and group the ratings by manufacturer."
      ],
      "id": "no_ehiWyi-HX"
    },
    {
      "cell_type": "code",
      "metadata": {
        "colab": {
          "base_uri": "https://localhost:8080/"
        },
        "id": "a257427d",
        "outputId": "49bac82f-6d7d-491b-9495-6da7f41244e0"
      },
      "source": [
        "# anova test\n",
        "F, p = stats.f_oneway(df[df.mfr=='A'].rating, df[df.mfr=='G'].rating, df[df.mfr=='K'].rating, df[df.mfr=='N'].rating, df[df.mfr=='P'].rating, df[df.mfr=='Q'].rating, df[df.mfr=='R'].rating)\n",
        "print('F-critical: 2.22')\n",
        "print('F-calculated: ', F)"
      ],
      "id": "a257427d",
      "execution_count": 22,
      "outputs": [
        {
          "output_type": "stream",
          "name": "stdout",
          "text": [
            "F-critical: 2.22\n",
            "F-calculated:  5.892057149371146\n"
          ]
        }
      ]
    },
    {
      "cell_type": "markdown",
      "metadata": {
        "id": "lEaPCIySkNjn"
      },
      "source": [
        "As we can see, the calculate F-statistic value is greater than the critical F-statistic value for the dof. Hence, we reject the Null Hypothesis and accept the Alternate Hypothesis which states that the variables manufacturer and rating are associated."
      ],
      "id": "lEaPCIySkNjn"
    },
    {
      "cell_type": "markdown",
      "metadata": {
        "id": "be837cfa"
      },
      "source": [
        "#### **Q14.** Which nutrients are essential for a good rating for a cereal?"
      ],
      "id": "be837cfa"
    },
    {
      "cell_type": "markdown",
      "metadata": {
        "id": "qLw5ZCqIlMa4"
      },
      "source": [
        "To solve Question 14, we calculate the Pearson's correlation for the variables as all of them are continuous. To do this, we use the corr() function from the Pandas library."
      ],
      "id": "qLw5ZCqIlMa4"
    },
    {
      "cell_type": "code",
      "metadata": {
        "colab": {
          "base_uri": "https://localhost:8080/",
          "height": 331
        },
        "id": "441dc205",
        "outputId": "6b4c30c5-8655-4265-80fa-16af5f1164aa"
      },
      "source": [
        "# pearson's correlation\n",
        "corr = df[['protein', 'fat', 'carbo', 'vitamins', 'sodium', 'sugars', 'potass', 'fiber', 'rating']].corr()\n",
        "corr"
      ],
      "id": "441dc205",
      "execution_count": 23,
      "outputs": [
        {
          "output_type": "execute_result",
          "data": {
            "text/html": [
              "<div>\n",
              "<style scoped>\n",
              "    .dataframe tbody tr th:only-of-type {\n",
              "        vertical-align: middle;\n",
              "    }\n",
              "\n",
              "    .dataframe tbody tr th {\n",
              "        vertical-align: top;\n",
              "    }\n",
              "\n",
              "    .dataframe thead th {\n",
              "        text-align: right;\n",
              "    }\n",
              "</style>\n",
              "<table border=\"1\" class=\"dataframe\">\n",
              "  <thead>\n",
              "    <tr style=\"text-align: right;\">\n",
              "      <th></th>\n",
              "      <th>protein</th>\n",
              "      <th>fat</th>\n",
              "      <th>carbo</th>\n",
              "      <th>vitamins</th>\n",
              "      <th>sodium</th>\n",
              "      <th>sugars</th>\n",
              "      <th>potass</th>\n",
              "      <th>fiber</th>\n",
              "      <th>rating</th>\n",
              "    </tr>\n",
              "  </thead>\n",
              "  <tbody>\n",
              "    <tr>\n",
              "      <th>protein</th>\n",
              "      <td>1.000000</td>\n",
              "      <td>0.226913</td>\n",
              "      <td>-0.016380</td>\n",
              "      <td>NaN</td>\n",
              "      <td>-0.120710</td>\n",
              "      <td>-0.226848</td>\n",
              "      <td>0.671223</td>\n",
              "      <td>0.587843</td>\n",
              "      <td>0.466606</td>\n",
              "    </tr>\n",
              "    <tr>\n",
              "      <th>fat</th>\n",
              "      <td>0.226913</td>\n",
              "      <td>1.000000</td>\n",
              "      <td>-0.312341</td>\n",
              "      <td>NaN</td>\n",
              "      <td>-0.248478</td>\n",
              "      <td>0.300349</td>\n",
              "      <td>0.357217</td>\n",
              "      <td>0.135546</td>\n",
              "      <td>-0.418439</td>\n",
              "    </tr>\n",
              "    <tr>\n",
              "      <th>carbo</th>\n",
              "      <td>-0.016380</td>\n",
              "      <td>-0.312341</td>\n",
              "      <td>1.000000</td>\n",
              "      <td>NaN</td>\n",
              "      <td>0.444677</td>\n",
              "      <td>-0.501056</td>\n",
              "      <td>-0.095005</td>\n",
              "      <td>-0.110386</td>\n",
              "      <td>0.160481</td>\n",
              "    </tr>\n",
              "    <tr>\n",
              "      <th>vitamins</th>\n",
              "      <td>NaN</td>\n",
              "      <td>NaN</td>\n",
              "      <td>NaN</td>\n",
              "      <td>NaN</td>\n",
              "      <td>NaN</td>\n",
              "      <td>NaN</td>\n",
              "      <td>NaN</td>\n",
              "      <td>NaN</td>\n",
              "      <td>NaN</td>\n",
              "    </tr>\n",
              "    <tr>\n",
              "      <th>sodium</th>\n",
              "      <td>-0.120710</td>\n",
              "      <td>-0.248478</td>\n",
              "      <td>0.444677</td>\n",
              "      <td>NaN</td>\n",
              "      <td>1.000000</td>\n",
              "      <td>-0.288444</td>\n",
              "      <td>-0.157435</td>\n",
              "      <td>-0.124328</td>\n",
              "      <td>-0.050622</td>\n",
              "    </tr>\n",
              "    <tr>\n",
              "      <th>sugars</th>\n",
              "      <td>-0.226848</td>\n",
              "      <td>0.300349</td>\n",
              "      <td>-0.501056</td>\n",
              "      <td>NaN</td>\n",
              "      <td>-0.288444</td>\n",
              "      <td>1.000000</td>\n",
              "      <td>0.030380</td>\n",
              "      <td>-0.000373</td>\n",
              "      <td>-0.774390</td>\n",
              "    </tr>\n",
              "    <tr>\n",
              "      <th>potass</th>\n",
              "      <td>0.671223</td>\n",
              "      <td>0.357217</td>\n",
              "      <td>-0.095005</td>\n",
              "      <td>NaN</td>\n",
              "      <td>-0.157435</td>\n",
              "      <td>0.030380</td>\n",
              "      <td>1.000000</td>\n",
              "      <td>0.792123</td>\n",
              "      <td>0.209746</td>\n",
              "    </tr>\n",
              "    <tr>\n",
              "      <th>fiber</th>\n",
              "      <td>0.587843</td>\n",
              "      <td>0.135546</td>\n",
              "      <td>-0.110386</td>\n",
              "      <td>NaN</td>\n",
              "      <td>-0.124328</td>\n",
              "      <td>-0.000373</td>\n",
              "      <td>0.792123</td>\n",
              "      <td>1.000000</td>\n",
              "      <td>0.335319</td>\n",
              "    </tr>\n",
              "    <tr>\n",
              "      <th>rating</th>\n",
              "      <td>0.466606</td>\n",
              "      <td>-0.418439</td>\n",
              "      <td>0.160481</td>\n",
              "      <td>NaN</td>\n",
              "      <td>-0.050622</td>\n",
              "      <td>-0.774390</td>\n",
              "      <td>0.209746</td>\n",
              "      <td>0.335319</td>\n",
              "      <td>1.000000</td>\n",
              "    </tr>\n",
              "  </tbody>\n",
              "</table>\n",
              "</div>"
            ],
            "text/plain": [
              "           protein       fat     carbo  ...    potass     fiber    rating\n",
              "protein   1.000000  0.226913 -0.016380  ...  0.671223  0.587843  0.466606\n",
              "fat       0.226913  1.000000 -0.312341  ...  0.357217  0.135546 -0.418439\n",
              "carbo    -0.016380 -0.312341  1.000000  ... -0.095005 -0.110386  0.160481\n",
              "vitamins       NaN       NaN       NaN  ...       NaN       NaN       NaN\n",
              "sodium   -0.120710 -0.248478  0.444677  ... -0.157435 -0.124328 -0.050622\n",
              "sugars   -0.226848  0.300349 -0.501056  ...  0.030380 -0.000373 -0.774390\n",
              "potass    0.671223  0.357217 -0.095005  ...  1.000000  0.792123  0.209746\n",
              "fiber     0.587843  0.135546 -0.110386  ...  0.792123  1.000000  0.335319\n",
              "rating    0.466606 -0.418439  0.160481  ...  0.209746  0.335319  1.000000\n",
              "\n",
              "[9 rows x 9 columns]"
            ]
          },
          "metadata": {},
          "execution_count": 23
        }
      ]
    },
    {
      "cell_type": "markdown",
      "metadata": {
        "id": "rtQMpQALl9Hc"
      },
      "source": [
        "As we can see, the top 3 nutrients that affect the rating are sugars, protein and fat, having correlation coefficients -0.77 (high negative linear correlation), 0.46 (moderate positive linear correlation), and -0.41 (moderate negative linear correlation). The variable vitamin returns a NaN value, since after preprocessing, all the values turn to 25."
      ],
      "id": "rtQMpQALl9Hc"
    },
    {
      "cell_type": "markdown",
      "metadata": {
        "id": "41bcce34"
      },
      "source": [
        "#### **Q15.** Design a Linear regression model to predict the rating of a cereal based on top 3 related nutrients. Tabulate the accuracy of the model using a 70 ,30 split"
      ],
      "id": "41bcce34"
    },
    {
      "cell_type": "markdown",
      "metadata": {
        "id": "HNRQusYQmhVX"
      },
      "source": [
        "To solve Question 15, we first split the data into dependent and independent variables x and y. x has the variables protein, fat, and sugars (from the previous question), and y has the variable rating."
      ],
      "id": "HNRQusYQmhVX"
    },
    {
      "cell_type": "code",
      "metadata": {
        "id": "84ebbefa"
      },
      "source": [
        "# splitting dataset into dependent and independent variables\n",
        "x = df[['protein', 'fat', 'sugars']]\n",
        "y = df['rating']"
      ],
      "id": "84ebbefa",
      "execution_count": 24,
      "outputs": []
    },
    {
      "cell_type": "markdown",
      "metadata": {
        "id": "nAKSCQj3mz2U"
      },
      "source": [
        "Next, we split the dataset into training and testing sets. To do this, we use the train_test_split() method from the sklearn.model_selection library. Here we, fix the training size to be 0.7 and random_state to be 109 to maintain consistency."
      ],
      "id": "nAKSCQj3mz2U"
    },
    {
      "cell_type": "code",
      "metadata": {
        "id": "0b9de851"
      },
      "source": [
        "# splitting dataset into training and testing sets\n",
        "from sklearn.model_selection import train_test_split\n",
        "x_train, x_test, y_train, y_test = train_test_split(x, y, train_size = 0.7, random_state=109)"
      ],
      "id": "0b9de851",
      "execution_count": 25,
      "outputs": []
    },
    {
      "cell_type": "markdown",
      "metadata": {
        "id": "HCT2G2V4nLLy"
      },
      "source": [
        "Finally, we use the LinearRegression method from the sklearn.linear_model library to design a linear regression model by training it on the training sets and then predicting the score on the testing set."
      ],
      "id": "HCT2G2V4nLLy"
    },
    {
      "cell_type": "code",
      "metadata": {
        "colab": {
          "base_uri": "https://localhost:8080/"
        },
        "id": "b1825d89",
        "outputId": "75e9d88a-d819-4c28-d6e3-c54c487c3b47"
      },
      "source": [
        "# training the model and calculating the score\n",
        "from sklearn.linear_model import LinearRegression\n",
        "model = LinearRegression()\n",
        "model.fit(x_train, y_train)\n",
        "model.score(x_test, y_test)"
      ],
      "id": "b1825d89",
      "execution_count": 26,
      "outputs": [
        {
          "output_type": "execute_result",
          "data": {
            "text/plain": [
              "0.8630735791969519"
            ]
          },
          "metadata": {},
          "execution_count": 26
        }
      ]
    },
    {
      "cell_type": "markdown",
      "metadata": {
        "id": "WB8vF0lPniOS"
      },
      "source": [
        "As we can see, our model has a score 0f 0.86, which is very high. Hence, the model has high explanatory power and the variables protein, fat and sugars can predict the rating accurately."
      ],
      "id": "WB8vF0lPniOS"
    }
  ]
}