{
  "nbformat": 4,
  "nbformat_minor": 5,
  "metadata": {
    "kernelspec": {
      "display_name": "Python 3",
      "language": "python",
      "name": "python3"
    },
    "language_info": {
      "codemirror_mode": {
        "name": "ipython",
        "version": 3
      },
      "file_extension": ".py",
      "mimetype": "text/x-python",
      "name": "python",
      "nbconvert_exporter": "python",
      "pygments_lexer": "ipython3",
      "version": "3.8.10"
    },
    "colab": {
      "name": "Week2-KhusheeKapoor-200968052-Bollywood.ipynb",
      "provenance": [],
      "collapsed_sections": []
    }
  },
  "cells": [
    {
      "cell_type": "markdown",
      "metadata": {
        "id": "0fa65627"
      },
      "source": [
        "## Bollywood Movie Analysis"
      ],
      "id": "0fa65627"
    },
    {
      "cell_type": "markdown",
      "metadata": {
        "id": "fcda4de3"
      },
      "source": [
        "Author: Khushee Kapoor\n",
        "\n",
        "Last Updated: 22/11/2021\n",
        "\n",
        "Week: 2\n",
        "\n",
        "**Meta-Data** of the Bollywood Dataset:\n",
        "\n",
        "*   SINo - Identifier for the movies.\n",
        "*   Release Date - Date on which the movie was released.\n",
        "*   MovieName - Name of the movie.\n",
        "*   ReleaseTime - Mentions special time of release. LW (Long weekend), FS (Festive Season), HS (Holiday Season), N (Normal).\n",
        "*   Genre – Genre of the film such as Romance, Thriller, Action, Comedy, etc\n",
        "*   Budget – Movie creation budget\n",
        "*   BoxOfficeCollection – Box office collection\n",
        "*   YoutubeViews – Number of views of the YouTube trailers\n",
        "*   YoutubeLikes – Number of likes of the YouTube trailers\n",
        "*   YoutubeDislikes – Number of dislikes of the YouTube trailers"
      ],
      "id": "fcda4de3"
    },
    {
      "cell_type": "markdown",
      "metadata": {
        "id": "cd717656"
      },
      "source": [
        "First, we import the libraries:\n",
        "\n",
        "*   NumPy - for data manipulation.\n",
        "*   Pandas - for data manipulation.\n",
        "*   MatPlotLib - for data visualization.\n",
        "*   Seaborn - for data visualization."
      ],
      "id": "cd717656"
    },
    {
      "cell_type": "code",
      "metadata": {
        "id": "2ba9e2f5"
      },
      "source": [
        "# importing the libraries\n",
        "import numpy as np\n",
        "import pandas as pd\n",
        "from matplotlib import pyplot as plt\n",
        "import seaborn as sns"
      ],
      "id": "2ba9e2f5",
      "execution_count": null,
      "outputs": []
    },
    {
      "cell_type": "markdown",
      "metadata": {
        "id": "f5946573"
      },
      "source": [
        "Next, we read the csv file into a Pandas dataframe using the function read_csv() from the Pandas library."
      ],
      "id": "f5946573"
    },
    {
      "cell_type": "code",
      "metadata": {
        "id": "cbe9c094"
      },
      "source": [
        "# reading the dataset\n",
        "df = pd.read_csv('bollywood.csv')"
      ],
      "id": "cbe9c094",
      "execution_count": null,
      "outputs": []
    },
    {
      "cell_type": "markdown",
      "metadata": {
        "id": "890af2d9"
      },
      "source": [
        "After reading the dataset, we view the first few rows of the dataframe using the head() function from the Pandas library."
      ],
      "id": "890af2d9"
    },
    {
      "cell_type": "code",
      "metadata": {
        "colab": {
          "base_uri": "https://localhost:8080/",
          "height": 203
        },
        "id": "f25dd4eb",
        "outputId": "8d1f7089-d39e-4e18-cac9-8f3c38195b5c"
      },
      "source": [
        "# viewing the first few rows of the dataset\n",
        "# the head() function displays the first 5 rows of the dataframe\n",
        "df.head()"
      ],
      "id": "f25dd4eb",
      "execution_count": null,
      "outputs": [
        {
          "output_type": "execute_result",
          "data": {
            "text/html": [
              "<div>\n",
              "<style scoped>\n",
              "    .dataframe tbody tr th:only-of-type {\n",
              "        vertical-align: middle;\n",
              "    }\n",
              "\n",
              "    .dataframe tbody tr th {\n",
              "        vertical-align: top;\n",
              "    }\n",
              "\n",
              "    .dataframe thead th {\n",
              "        text-align: right;\n",
              "    }\n",
              "</style>\n",
              "<table border=\"1\" class=\"dataframe\">\n",
              "  <thead>\n",
              "    <tr style=\"text-align: right;\">\n",
              "      <th></th>\n",
              "      <th>SlNo</th>\n",
              "      <th>Release Date</th>\n",
              "      <th>MovieName</th>\n",
              "      <th>ReleaseTime</th>\n",
              "      <th>Genre</th>\n",
              "      <th>Budget</th>\n",
              "      <th>BoxOfficeCollection</th>\n",
              "      <th>YoutubeViews</th>\n",
              "      <th>YoutubeLikes</th>\n",
              "      <th>YoutubeDislikes</th>\n",
              "    </tr>\n",
              "  </thead>\n",
              "  <tbody>\n",
              "    <tr>\n",
              "      <th>0</th>\n",
              "      <td>1</td>\n",
              "      <td>18-Apr-14</td>\n",
              "      <td>2 States</td>\n",
              "      <td>LW</td>\n",
              "      <td>Romance</td>\n",
              "      <td>36</td>\n",
              "      <td>104.00</td>\n",
              "      <td>8576361</td>\n",
              "      <td>26622</td>\n",
              "      <td>2527</td>\n",
              "    </tr>\n",
              "    <tr>\n",
              "      <th>1</th>\n",
              "      <td>2</td>\n",
              "      <td>4-Jan-13</td>\n",
              "      <td>Table No. 21</td>\n",
              "      <td>N</td>\n",
              "      <td>Thriller</td>\n",
              "      <td>10</td>\n",
              "      <td>12.00</td>\n",
              "      <td>1087320</td>\n",
              "      <td>1129</td>\n",
              "      <td>137</td>\n",
              "    </tr>\n",
              "    <tr>\n",
              "      <th>2</th>\n",
              "      <td>3</td>\n",
              "      <td>18-Jul-14</td>\n",
              "      <td>Amit Sahni Ki List</td>\n",
              "      <td>N</td>\n",
              "      <td>Comedy</td>\n",
              "      <td>10</td>\n",
              "      <td>4.00</td>\n",
              "      <td>572336</td>\n",
              "      <td>586</td>\n",
              "      <td>54</td>\n",
              "    </tr>\n",
              "    <tr>\n",
              "      <th>3</th>\n",
              "      <td>4</td>\n",
              "      <td>4-Jan-13</td>\n",
              "      <td>Rajdhani Express</td>\n",
              "      <td>N</td>\n",
              "      <td>Drama</td>\n",
              "      <td>7</td>\n",
              "      <td>0.35</td>\n",
              "      <td>42626</td>\n",
              "      <td>86</td>\n",
              "      <td>19</td>\n",
              "    </tr>\n",
              "    <tr>\n",
              "      <th>4</th>\n",
              "      <td>5</td>\n",
              "      <td>4-Jul-14</td>\n",
              "      <td>Bobby Jasoos</td>\n",
              "      <td>N</td>\n",
              "      <td>Comedy</td>\n",
              "      <td>18</td>\n",
              "      <td>10.80</td>\n",
              "      <td>3113427</td>\n",
              "      <td>4512</td>\n",
              "      <td>1224</td>\n",
              "    </tr>\n",
              "  </tbody>\n",
              "</table>\n",
              "</div>"
            ],
            "text/plain": [
              "   SlNo Release Date  ... YoutubeLikes YoutubeDislikes\n",
              "0     1    18-Apr-14  ...        26622            2527\n",
              "1     2     4-Jan-13  ...         1129             137\n",
              "2     3    18-Jul-14  ...          586              54\n",
              "3     4     4-Jan-13  ...           86              19\n",
              "4     5     4-Jul-14  ...         4512            1224\n",
              "\n",
              "[5 rows x 10 columns]"
            ]
          },
          "metadata": {},
          "execution_count": 3
        }
      ]
    },
    {
      "cell_type": "markdown",
      "metadata": {
        "id": "6531ab67"
      },
      "source": [
        "Now, we start answering the lab questions."
      ],
      "id": "6531ab67"
    },
    {
      "cell_type": "markdown",
      "metadata": {
        "id": "406551fd"
      },
      "source": [
        "#### **Q1.** How many records are present in the dataset?"
      ],
      "id": "406551fd"
    },
    {
      "cell_type": "markdown",
      "metadata": {
        "id": "976457a1"
      },
      "source": [
        "To solve Question 1, we use the shape attribute of a Pandas dataframe and check the number of rows by using index 0."
      ],
      "id": "976457a1"
    },
    {
      "cell_type": "code",
      "metadata": {
        "colab": {
          "base_uri": "https://localhost:8080/"
        },
        "id": "09b31a99",
        "outputId": "a6c1e55e-6cf3-4231-f2f8-323fe1fbf81f"
      },
      "source": [
        "# 1. number of records in the dataset\n",
        "df.shape[0]"
      ],
      "id": "09b31a99",
      "execution_count": null,
      "outputs": [
        {
          "output_type": "execute_result",
          "data": {
            "text/plain": [
              "149"
            ]
          },
          "metadata": {},
          "execution_count": 4
        }
      ]
    },
    {
      "cell_type": "markdown",
      "metadata": {
        "id": "25d13db0"
      },
      "source": [
        "As we can see, there are 149 records in the dataset."
      ],
      "id": "25d13db0"
    },
    {
      "cell_type": "markdown",
      "metadata": {
        "id": "d02c93a6"
      },
      "source": [
        "#### **Q2.** How many movies were released in each Release Time? Sort number of releases in Release Time in descending order."
      ],
      "id": "d02c93a6"
    },
    {
      "cell_type": "markdown",
      "metadata": {
        "id": "86311f61"
      },
      "source": [
        "To solve Question 2, we use the function value_counts() from the Pandas library on the ReleaseTime column. The function automatically sorts the counts in descending order."
      ],
      "id": "86311f61"
    },
    {
      "cell_type": "code",
      "metadata": {
        "colab": {
          "base_uri": "https://localhost:8080/"
        },
        "id": "14587162",
        "outputId": "c62197a0-1e38-4675-8849-1abcfda6aaf3"
      },
      "source": [
        "# 2. finding the number of movies by release time sorted in the descending order\n",
        "df.ReleaseTime.value_counts()"
      ],
      "id": "14587162",
      "execution_count": null,
      "outputs": [
        {
          "output_type": "execute_result",
          "data": {
            "text/plain": [
              "N     99\n",
              "HS    18\n",
              "FS    17\n",
              "LW    15\n",
              "Name: ReleaseTime, dtype: int64"
            ]
          },
          "metadata": {},
          "execution_count": 5
        }
      ]
    },
    {
      "cell_type": "markdown",
      "metadata": {
        "id": "cab3f930"
      },
      "source": [
        "As we can see, the highest number of movies were released on a normal time, followed by the holiday season, the festive season, and then the long weekend having the lowest number of releases."
      ],
      "id": "cab3f930"
    },
    {
      "cell_type": "markdown",
      "metadata": {
        "id": "bd0b2977"
      },
      "source": [
        "#### **Q3.** Which genre had highest number of releases during the Festive Season?"
      ],
      "id": "bd0b2977"
    },
    {
      "cell_type": "markdown",
      "metadata": {
        "id": "277922c0"
      },
      "source": [
        "To solve Question 3, we use the strip() function on the string values of the Genre column to remove the leading and trailing spaces. Then, we filter the dataframe using the condition where ReleaseTime is equal to FS and use the value_counts() method on the Genre column to get the number of movies grouped by Genre."
      ],
      "id": "277922c0"
    },
    {
      "cell_type": "code",
      "metadata": {
        "colab": {
          "base_uri": "https://localhost:8080/"
        },
        "id": "2e128efb",
        "outputId": "a33c1ee3-092f-4d2f-8593-a4bddb92982a"
      },
      "source": [
        "# formatting the genre column\n",
        "df.Genre = df.Genre.str.strip()\n",
        "\n",
        "# 3. finding the genre with the highest number of releases during the festive season\n",
        "df[df.ReleaseTime=='FS'].Genre.value_counts()"
      ],
      "id": "2e128efb",
      "execution_count": null,
      "outputs": [
        {
          "output_type": "execute_result",
          "data": {
            "text/plain": [
              "Thriller    4\n",
              "Drama       4\n",
              "Comedy      3\n",
              "Action      3\n",
              "Romance     3\n",
              "Name: Genre, dtype: int64"
            ]
          },
          "metadata": {},
          "execution_count": 6
        }
      ]
    },
    {
      "cell_type": "markdown",
      "metadata": {
        "id": "41e7a0e1"
      },
      "source": [
        "As we can see, the genres Thriller and Drama had the highest number of releases during the Festive Season, having 4 released each."
      ],
      "id": "41e7a0e1"
    },
    {
      "cell_type": "markdown",
      "metadata": {
        "id": "f5088063"
      },
      "source": [
        "#### **Q4.** How many movies in each genre got released in different release times like long weekend, festive season, etc. "
      ],
      "id": "f5088063"
    },
    {
      "cell_type": "markdown",
      "metadata": {
        "id": "7b0b7b99"
      },
      "source": [
        "To solve Question 4, we use the crosstab() function from the Pandas library on the Genre and ReleaseTime columns of the dataframe."
      ],
      "id": "7b0b7b99"
    },
    {
      "cell_type": "code",
      "metadata": {
        "colab": {
          "base_uri": "https://localhost:8080/",
          "height": 234
        },
        "id": "5f9d871f",
        "outputId": "ee3fec86-8e2a-44d4-fa88-9a006e19088b"
      },
      "source": [
        "# 4. cross tab between Genre and ReleaseTime\n",
        "pd.crosstab(df.Genre, df.ReleaseTime)"
      ],
      "id": "5f9d871f",
      "execution_count": null,
      "outputs": [
        {
          "output_type": "execute_result",
          "data": {
            "text/html": [
              "<div>\n",
              "<style scoped>\n",
              "    .dataframe tbody tr th:only-of-type {\n",
              "        vertical-align: middle;\n",
              "    }\n",
              "\n",
              "    .dataframe tbody tr th {\n",
              "        vertical-align: top;\n",
              "    }\n",
              "\n",
              "    .dataframe thead th {\n",
              "        text-align: right;\n",
              "    }\n",
              "</style>\n",
              "<table border=\"1\" class=\"dataframe\">\n",
              "  <thead>\n",
              "    <tr style=\"text-align: right;\">\n",
              "      <th>ReleaseTime</th>\n",
              "      <th>FS</th>\n",
              "      <th>HS</th>\n",
              "      <th>LW</th>\n",
              "      <th>N</th>\n",
              "    </tr>\n",
              "    <tr>\n",
              "      <th>Genre</th>\n",
              "      <th></th>\n",
              "      <th></th>\n",
              "      <th></th>\n",
              "      <th></th>\n",
              "    </tr>\n",
              "  </thead>\n",
              "  <tbody>\n",
              "    <tr>\n",
              "      <th>Action</th>\n",
              "      <td>3</td>\n",
              "      <td>3</td>\n",
              "      <td>3</td>\n",
              "      <td>15</td>\n",
              "    </tr>\n",
              "    <tr>\n",
              "      <th>Comedy</th>\n",
              "      <td>3</td>\n",
              "      <td>5</td>\n",
              "      <td>5</td>\n",
              "      <td>23</td>\n",
              "    </tr>\n",
              "    <tr>\n",
              "      <th>Drama</th>\n",
              "      <td>4</td>\n",
              "      <td>6</td>\n",
              "      <td>1</td>\n",
              "      <td>24</td>\n",
              "    </tr>\n",
              "    <tr>\n",
              "      <th>Romance</th>\n",
              "      <td>3</td>\n",
              "      <td>3</td>\n",
              "      <td>4</td>\n",
              "      <td>15</td>\n",
              "    </tr>\n",
              "    <tr>\n",
              "      <th>Thriller</th>\n",
              "      <td>4</td>\n",
              "      <td>1</td>\n",
              "      <td>2</td>\n",
              "      <td>22</td>\n",
              "    </tr>\n",
              "  </tbody>\n",
              "</table>\n",
              "</div>"
            ],
            "text/plain": [
              "ReleaseTime  FS  HS  LW   N\n",
              "Genre                      \n",
              "Action        3   3   3  15\n",
              "Comedy        3   5   5  23\n",
              "Drama         4   6   1  24\n",
              "Romance       3   3   4  15\n",
              "Thriller      4   1   2  22"
            ]
          },
          "metadata": {},
          "execution_count": 7
        }
      ]
    },
    {
      "cell_type": "markdown",
      "metadata": {
        "id": "48c2e697"
      },
      "source": [
        "As we can see, there are:\n",
        "*   3 Action, 3 Comedy, 4 Drama, 3 Romance and 4 Thriller movies released during the Festive Season.\n",
        "*   3 Action, 5 Comedy, 6 Drama, 3 Romance and 1 Thriller movies released during the Holiday Season.\n",
        "*   3 Action, 5 Comedy, 1 Drama, 4 Romance and 2 Thriller movies released during the Long Weekend.\n",
        "*   15 Action, 23 Comedy, 24 Drama, 15 Romance and 22 Thriller movies released during the Normal Period."
      ],
      "id": "48c2e697"
    },
    {
      "cell_type": "markdown",
      "metadata": {
        "id": "c5fc2599"
      },
      "source": [
        "#### **Q5.** In which year were maximum number movie released?"
      ],
      "id": "c5fc2599"
    },
    {
      "cell_type": "markdown",
      "metadata": {
        "id": "e11ce457"
      },
      "source": [
        "To solve Question 5, we first convert the data type of the Release Date column to datetime using the to_datetime() function from the Pandas library. After that, we generate a new column Year by extracting the year attribute from the Release Date column. Following that, we use the value_counts() function from the Pandas library to get the number of movies released for every value of year."
      ],
      "id": "e11ce457"
    },
    {
      "cell_type": "code",
      "metadata": {
        "colab": {
          "base_uri": "https://localhost:8080/"
        },
        "id": "65b9d732",
        "outputId": "673a4cb6-75d3-4f26-d30a-03e964d4cd24"
      },
      "source": [
        "# 5. finding the year when the maximum number of movies were released\n",
        "\n",
        "# converting Release Date into datetime data type\n",
        "df['Release Date'] = pd.to_datetime(df['Release Date'])\n",
        "\n",
        "# generating a year column to extract the date from the column Release Date\n",
        "df['Year'] = df['Release Date'].dt.year\n",
        "\n",
        "# finding the year when the maximum number of movies were released\n",
        "df.Year.value_counts()"
      ],
      "id": "65b9d732",
      "execution_count": null,
      "outputs": [
        {
          "output_type": "execute_result",
          "data": {
            "text/plain": [
              "2014    70\n",
              "2013    67\n",
              "2015    12\n",
              "Name: Year, dtype: int64"
            ]
          },
          "metadata": {},
          "execution_count": 8
        }
      ]
    },
    {
      "cell_type": "markdown",
      "metadata": {
        "id": "9ea995d1"
      },
      "source": [
        "As we can see, the maximum number of movies were released in the year 2014."
      ],
      "id": "9ea995d1"
    },
    {
      "cell_type": "markdown",
      "metadata": {
        "id": "584b659b"
      },
      "source": [
        "#### **Q6.** Which month of the year typically sees most releases of high budgeted movies, that is, movies with budget of 30 crore or more?"
      ],
      "id": "584b659b"
    },
    {
      "cell_type": "markdown",
      "metadata": {
        "id": "768c2f76"
      },
      "source": [
        "To solve Question 6, we filter the dataframe using the condition that the Budget is >= 30 crores and then extract the month from the Release Date column using the month attribute. After that, we use the value_counts() function from the Pandas library on the month extracted to get the number of movies released for every value of the month."
      ],
      "id": "768c2f76"
    },
    {
      "cell_type": "code",
      "metadata": {
        "colab": {
          "base_uri": "https://localhost:8080/"
        },
        "id": "83bdc43f",
        "outputId": "454e1a46-96ec-4600-e6a9-386263387b64"
      },
      "source": [
        "# 6. finding the month which sees maximum number of high budget movies\n",
        "df[df.Budget>=30]['Release Date'].dt.month.value_counts()"
      ],
      "id": "83bdc43f",
      "execution_count": null,
      "outputs": [
        {
          "output_type": "execute_result",
          "data": {
            "text/plain": [
              "2     8\n",
              "8     7\n",
              "11    6\n",
              "1     6\n",
              "7     5\n",
              "6     5\n",
              "10    4\n",
              "9     4\n",
              "5     3\n",
              "4     3\n",
              "3     3\n",
              "12    2\n",
              "Name: Release Date, dtype: int64"
            ]
          },
          "metadata": {},
          "execution_count": 9
        }
      ]
    },
    {
      "cell_type": "markdown",
      "metadata": {
        "id": "07fdb91d"
      },
      "source": [
        "As we can see, the month 2 - February typically sees most releases of high budgeted movies."
      ],
      "id": "07fdb91d"
    },
    {
      "cell_type": "markdown",
      "metadata": {
        "id": "e0d777d5"
      },
      "source": [
        "#### **Q7.** Which are the top 10 flop movies with minimum return on investment (ROI)?"
      ],
      "id": "e0d777d5"
    },
    {
      "cell_type": "markdown",
      "metadata": {
        "id": "1c42dc07"
      },
      "source": [
        "To solve Question 7, we first generate a new column in the dataframe called ROI using the formula  (BoxOfficeCollection – Budget) / Budget. Then we sort the dataframe in the ascending order by the column ROI and display the top 10 columns using splicing."
      ],
      "id": "1c42dc07"
    },
    {
      "cell_type": "code",
      "metadata": {
        "colab": {
          "base_uri": "https://localhost:8080/"
        },
        "id": "f8cc24f1",
        "outputId": "4ae1a04f-df4d-4664-e1dd-8a4432f7e563"
      },
      "source": [
        "# 7. finding the top 10 flop movies with minimum ROI\n",
        "\n",
        "# creating the ROI column\n",
        "df['ROI'] = (df.BoxOfficeCollection - df.Budget)/df.Budget\n",
        "\n",
        "# sorting the values and displaying the top 10 flop movies\n",
        "df.sort_values(by='ROI').MovieName[0:10]"
      ],
      "id": "f8cc24f1",
      "execution_count": null,
      "outputs": [
        {
          "output_type": "execute_result",
          "data": {
            "text/plain": [
              "9                 Gangoobai\n",
              "15                  Bandook\n",
              "53                 Sona Spa\n",
              "3          Rajdhani Express\n",
              "49     Kya Dilli Kya Lahore\n",
              "121                 Satya 2\n",
              "67             Purani Jeans\n",
              "103          Samrat and Co.\n",
              "30                Heartless\n",
              "102                 Kaanchi\n",
              "Name: MovieName, dtype: object"
            ]
          },
          "metadata": {},
          "execution_count": 10
        }
      ]
    },
    {
      "cell_type": "markdown",
      "metadata": {
        "id": "f8faee85"
      },
      "source": [
        "As we can see, the movies Gangoobai, Bandook, Sona Spa, Rajdhani Express, Kya Dilli Kya Lahore, Satya 2, Purani Jeans, Samrat and Co., Heartless, and Kaanchi have the minimum ROI and are the top 10 flop movies."
      ],
      "id": "f8faee85"
    },
    {
      "cell_type": "markdown",
      "metadata": {
        "id": "ba6af779"
      },
      "source": [
        "#### **Q8.** Do the movies have higher ROI if they get released on festive seasons or long weekend? Calculate the average ROI for different release times."
      ],
      "id": "ba6af779"
    },
    {
      "cell_type": "markdown",
      "metadata": {
        "id": "88633fd9"
      },
      "source": [
        "To solve Question 8, we group the dataframe by the Release Date column using the groupby() function from the Pandas library and then calculate mean of the groups using the mean() function from the Pandas library on the ROI column of the grouped dataset."
      ],
      "id": "88633fd9"
    },
    {
      "cell_type": "code",
      "metadata": {
        "colab": {
          "base_uri": "https://localhost:8080/"
        },
        "id": "1886f0e7",
        "outputId": "498107f5-5d46-4d42-849e-bcf95ce03a7e"
      },
      "source": [
        "# 8. calculating average ROI based on ReleaseTime\n",
        "df.groupby(by='ReleaseTime').ROI.mean()"
      ],
      "id": "1886f0e7",
      "execution_count": null,
      "outputs": [
        {
          "output_type": "execute_result",
          "data": {
            "text/plain": [
              "ReleaseTime\n",
              "FS    0.973853\n",
              "HS    0.850867\n",
              "LW    1.127205\n",
              "N     0.657722\n",
              "Name: ROI, dtype: float64"
            ]
          },
          "metadata": {},
          "execution_count": 11
        }
      ]
    },
    {
      "cell_type": "markdown",
      "metadata": {
        "id": "08b41ed5"
      },
      "source": [
        "As we can see, movies which release on the long weekend and festive seasons have higher values of ROI - 1.12 and 0.97 respectively."
      ],
      "id": "08b41ed5"
    },
    {
      "cell_type": "markdown",
      "metadata": {
        "id": "33b9e78a"
      },
      "source": [
        "#### **Q9.** Is there a correlation between box office collection and YouTube likes? Is the correlation positive or negative?\n"
      ],
      "id": "33b9e78a"
    },
    {
      "cell_type": "markdown",
      "metadata": {
        "id": "654b5678"
      },
      "source": [
        "To solve Question 9, we use the corr() function from the Pandas library on the BoxOfficeCollection and YoutubeLikes columns of the dataframe."
      ],
      "id": "654b5678"
    },
    {
      "cell_type": "code",
      "metadata": {
        "colab": {
          "base_uri": "https://localhost:8080/",
          "height": 110
        },
        "id": "8952d606",
        "outputId": "7169b591-d0ac-4b75-8e1f-2e89698c94ce"
      },
      "source": [
        "# 9. correlation between BoxOfficeCollection and YoutubeLikes\n",
        "corr = df[['BoxOfficeCollection', 'YoutubeLikes']].corr()\n",
        "corr"
      ],
      "id": "8952d606",
      "execution_count": null,
      "outputs": [
        {
          "output_type": "execute_result",
          "data": {
            "text/html": [
              "<div>\n",
              "<style scoped>\n",
              "    .dataframe tbody tr th:only-of-type {\n",
              "        vertical-align: middle;\n",
              "    }\n",
              "\n",
              "    .dataframe tbody tr th {\n",
              "        vertical-align: top;\n",
              "    }\n",
              "\n",
              "    .dataframe thead th {\n",
              "        text-align: right;\n",
              "    }\n",
              "</style>\n",
              "<table border=\"1\" class=\"dataframe\">\n",
              "  <thead>\n",
              "    <tr style=\"text-align: right;\">\n",
              "      <th></th>\n",
              "      <th>BoxOfficeCollection</th>\n",
              "      <th>YoutubeLikes</th>\n",
              "    </tr>\n",
              "  </thead>\n",
              "  <tbody>\n",
              "    <tr>\n",
              "      <th>BoxOfficeCollection</th>\n",
              "      <td>1.000000</td>\n",
              "      <td>0.682517</td>\n",
              "    </tr>\n",
              "    <tr>\n",
              "      <th>YoutubeLikes</th>\n",
              "      <td>0.682517</td>\n",
              "      <td>1.000000</td>\n",
              "    </tr>\n",
              "  </tbody>\n",
              "</table>\n",
              "</div>"
            ],
            "text/plain": [
              "                     BoxOfficeCollection  YoutubeLikes\n",
              "BoxOfficeCollection             1.000000      0.682517\n",
              "YoutubeLikes                    0.682517      1.000000"
            ]
          },
          "metadata": {},
          "execution_count": 12
        }
      ]
    },
    {
      "cell_type": "markdown",
      "metadata": {
        "id": "a6ea9c5e"
      },
      "source": [
        "As we can see, the columns BoxOfficeCollection and YoutubeLikes have a moderate degree of positive linear correlation, having correlation coefficient 0.68. This means that if BoxOfficeCollection increases by 100%, the YoutubeLikes also increase by 68%."
      ],
      "id": "a6ea9c5e"
    },
    {
      "cell_type": "markdown",
      "metadata": {
        "id": "8b4f9bf6"
      },
      "source": [
        "#### **Q10.** Which genre of movies typically sees more YouTube views? Draw boxplots for each genre of movies to compare."
      ],
      "id": "8b4f9bf6"
    },
    {
      "cell_type": "markdown",
      "metadata": {
        "id": "017a1f9c"
      },
      "source": [
        "To solve Question 10, we use the boxplot() function from the Seaborn library and pass the values Genre to be plotted on the x-axis and YoutubeViews to be plotted on the y-axis."
      ],
      "id": "017a1f9c"
    },
    {
      "cell_type": "code",
      "metadata": {
        "colab": {
          "base_uri": "https://localhost:8080/",
          "height": 307
        },
        "id": "c7215632",
        "outputId": "10f82561-9ec0-4251-9fff-022a5155560d"
      },
      "source": [
        "# 10. comparing Youtube views of genre by plotting boxplots\n",
        "sns.boxplot(x='Genre', y='YoutubeViews', data=df)"
      ],
      "id": "c7215632",
      "execution_count": null,
      "outputs": [
        {
          "output_type": "execute_result",
          "data": {
            "text/plain": [
              "<matplotlib.axes._subplots.AxesSubplot at 0x7f9335ba3a50>"
            ]
          },
          "metadata": {},
          "execution_count": 13
        },
        {
          "output_type": "display_data",
          "data": {
            "image/png": "[encoded data removed]",
            "text/plain": [
              "<Figure size 432x288 with 1 Axes>"
            ]
          },
          "metadata": {
            "needs_background": "light"
          }
        }
      ]
    },
    {
      "cell_type": "markdown",
      "metadata": {
        "id": "aedb7584"
      },
      "source": [
        "As we can see, the Genre Action has the highest YouTube views."
      ],
      "id": "aedb7584"
    },
    {
      "cell_type": "markdown",
      "metadata": {
        "id": "1a46cc3f"
      },
      "source": [
        "#### **Q11.** Which of the variables among Budget, BoxOfficeCollection, YoutubeView, YoutubeLikes, YoutubeDislikes are highly correlated?"
      ],
      "id": "1a46cc3f"
    },
    {
      "cell_type": "markdown",
      "metadata": {
        "id": "b89d221e"
      },
      "source": [
        "To solve Question 11, we use first calculate the correlation between the specified columns using the corr() function from the Pandas library, and then we plot a heatmap of the correlation vector using the heatmap() function from the Seaborn library."
      ],
      "id": "b89d221e"
    },
    {
      "cell_type": "code",
      "metadata": {
        "colab": {
          "base_uri": "https://localhost:8080/",
          "height": 374
        },
        "id": "c0722b2d",
        "outputId": "7f1d87f0-b0f0-47df-e0af-ba97a1592b8f"
      },
      "source": [
        "# 11. correlation heatmap for variables Budget, BoxOfficeCollection, YoutubeView, YoutubeLikes, YoutubeDislikes\n",
        "\n",
        "# calculating correlation values between the variables\n",
        "corr = df[['Budget', 'BoxOfficeCollection', 'YoutubeViews', 'YoutubeLikes', 'YoutubeDislikes']].corr()\n",
        "\n",
        "# plotting a heatmap to visualize the correlation\n",
        "sns.heatmap(corr, annot=True)"
      ],
      "id": "c0722b2d",
      "execution_count": null,
      "outputs": [
        {
          "output_type": "execute_result",
          "data": {
            "text/plain": [
              "<matplotlib.axes._subplots.AxesSubplot at 0x7f93347dd550>"
            ]
          },
          "metadata": {},
          "execution_count": 14
        },
        {
          "output_type": "display_data",
          "data": {
            "image/png": "[encoded data removed]",
            "text/plain": [
              "<Figure size 432x288 with 2 Axes>"
            ]
          },
          "metadata": {
            "needs_background": "light"
          }
        }
      ]
    },
    {
      "cell_type": "markdown",
      "metadata": {
        "id": "856b73e9"
      },
      "source": [
        "As we can see, the columns YoutubeViews, YoutubeLikes, and YoutubeDislikes are highly correlated with each other."
      ],
      "id": "856b73e9"
    },
    {
      "cell_type": "markdown",
      "metadata": {
        "id": "2a46cdce"
      },
      "source": [
        "#### **Q12.** During 2013−2015 period, highlight the genre of movies and their box office collection? Visualize with best fit graph."
      ],
      "id": "2a46cdce"
    },
    {
      "cell_type": "markdown",
      "metadata": {
        "id": "e344eca8"
      },
      "source": [
        "To solve Question 12, we use the barplot() function from the Seaborn library and pass the values Year to be plotted on the x-axis, BoxOfficeCollection to be plotted on the y-axis, and set the hue parameter to Genre to split the bars on the basis of Genre."
      ],
      "id": "e344eca8"
    },
    {
      "cell_type": "code",
      "metadata": {
        "colab": {
          "base_uri": "https://localhost:8080/",
          "height": 296
        },
        "id": "cbe92697",
        "outputId": "0af16209-932c-4064-8b67-a1b44bb4de16"
      },
      "source": [
        "# 12. plotting a barplot to highlight the genre of movies and their box office collection\n",
        "sns.barplot(x='Year', y='BoxOfficeCollection', hue='Genre', data=df, ci=None)"
      ],
      "id": "cbe92697",
      "execution_count": null,
      "outputs": [
        {
          "output_type": "execute_result",
          "data": {
            "text/plain": [
              "<matplotlib.axes._subplots.AxesSubplot at 0x7f932ba1c890>"
            ]
          },
          "metadata": {},
          "execution_count": 15
        },
        {
          "output_type": "display_data",
          "data": {
            "image/png": "[encoded data removed]",
            "text/plain": [
              "<Figure size 432x288 with 1 Axes>"
            ]
          },
          "metadata": {
            "needs_background": "light"
          }
        }
      ]
    },
    {
      "cell_type": "markdown",
      "metadata": {
        "id": "eb17dcdd"
      },
      "source": [
        "#### **Q13.** During 2013−2015, find the number of movies released in every year. Also, visualize with best fit graph."
      ],
      "id": "eb17dcdd"
    },
    {
      "cell_type": "markdown",
      "metadata": {
        "id": "316c719a"
      },
      "source": [
        "To solve Question 13, we first find the number of movies released every year using the value_counts() function from the Pandas library on the Year column."
      ],
      "id": "316c719a"
    },
    {
      "cell_type": "code",
      "metadata": {
        "colab": {
          "base_uri": "https://localhost:8080/"
        },
        "id": "1f25f77e",
        "outputId": "de33bc6c-2db9-4bb5-e447-21fd5ababaa2"
      },
      "source": [
        "# 13. finding number of movies released in every year\n",
        "df.Year.value_counts()"
      ],
      "id": "1f25f77e",
      "execution_count": null,
      "outputs": [
        {
          "output_type": "execute_result",
          "data": {
            "text/plain": [
              "2014    70\n",
              "2013    67\n",
              "2015    12\n",
              "Name: Year, dtype: int64"
            ]
          },
          "metadata": {},
          "execution_count": 16
        }
      ]
    },
    {
      "cell_type": "markdown",
      "metadata": {
        "id": "f8fd4ef9"
      },
      "source": [
        "Next, we use the countplot() function from the Seaborn library and pass the value Year to be plotted on the x-axis. The y-axis automatically plots the count of the discrete variable Year."
      ],
      "id": "f8fd4ef9"
    },
    {
      "cell_type": "code",
      "metadata": {
        "colab": {
          "base_uri": "https://localhost:8080/",
          "height": 296
        },
        "id": "415e4e2d",
        "outputId": "116c3fc9-0927-43f8-fc3c-23dedd40ec1b"
      },
      "source": [
        "# 13. plotting a countplot to visualize the number of movies released every year\n",
        "sns.countplot(x='Year', data=df)"
      ],
      "id": "415e4e2d",
      "execution_count": null,
      "outputs": [
        {
          "output_type": "execute_result",
          "data": {
            "text/plain": [
              "<matplotlib.axes._subplots.AxesSubplot at 0x7f932b9cdcd0>"
            ]
          },
          "metadata": {},
          "execution_count": 17
        },
        {
          "output_type": "display_data",
          "data": {
            "image/png": "[encoded data removed]",
            "text/plain": [
              "<Figure size 432x288 with 1 Axes>"
            ]
          },
          "metadata": {
            "needs_background": "light"
          }
        }
      ]
    },
    {
      "cell_type": "markdown",
      "metadata": {
        "id": "0979a866"
      },
      "source": [
        "As we can see, the year 2014 has the maximum number of movies closely followed by 2013."
      ],
      "id": "0979a866"
    },
    {
      "cell_type": "markdown",
      "metadata": {
        "id": "cf6eaa1b"
      },
      "source": [
        "#### **Q14.** Find the distribution of movie budget for every Genre."
      ],
      "id": "cf6eaa1b"
    },
    {
      "cell_type": "markdown",
      "metadata": {
        "id": "319b6abe"
      },
      "source": [
        "To solve Question 14, we use the distplot() function from the Seaborn library and pass the value Budget to be plotted on the x-axis and set the parameter kind to kde and hue to Genre to compare the Genres easily."
      ],
      "id": "319b6abe"
    },
    {
      "cell_type": "code",
      "metadata": {
        "colab": {
          "base_uri": "https://localhost:8080/",
          "height": 386
        },
        "id": "e3f1ca83",
        "outputId": "5cb7089e-9d9e-4bec-f19b-8282d3b80087"
      },
      "source": [
        "# 14. plotting a distplot to visualize the distribution of Budget Genre-wise\n",
        "sns.displot(x='Budget', data=df, kind='kde', hue='Genre')"
      ],
      "id": "e3f1ca83",
      "execution_count": null,
      "outputs": [
        {
          "output_type": "execute_result",
          "data": {
            "text/plain": [
              "<seaborn.axisgrid.FacetGrid at 0x7f93342b1d90>"
            ]
          },
          "metadata": {},
          "execution_count": 18
        },
        {
          "output_type": "display_data",
          "data": {
            "image/png": "[encoded data removed]",
            "text/plain": [
              "<Figure size 442.125x360 with 1 Axes>"
            ]
          },
          "metadata": {
            "needs_background": "light"
          }
        }
      ]
    },
    {
      "cell_type": "markdown",
      "metadata": {
        "id": "b2ec1e3b"
      },
      "source": [
        "As we can see, almost all the Genres have right-skewed Budget."
      ],
      "id": "b2ec1e3b"
    },
    {
      "cell_type": "markdown",
      "metadata": {
        "id": "b5543a9c"
      },
      "source": [
        "#### **Q15.** During 2013−2015, Visualize the number of YouTube likes and YouTube dislikes every year. Also, visualize with best fit graph."
      ],
      "id": "b5543a9c"
    },
    {
      "cell_type": "markdown",
      "metadata": {
        "id": "0350de68"
      },
      "source": [
        "To solve Question 15, we first find the sum of likes year-wise by grouping the dataframe by the Year column and summing over the YoutubeLikes column using the sum() function from the Pandas library."
      ],
      "id": "0350de68"
    },
    {
      "cell_type": "code",
      "metadata": {
        "colab": {
          "base_uri": "https://localhost:8080/"
        },
        "id": "3d3783c6",
        "outputId": "f7334334-f744-4129-c8da-40bf0fde362c"
      },
      "source": [
        "# 15. finding number of YoutubeLikes every year\n",
        "df.groupby(by='Year').YoutubeLikes.sum()"
      ],
      "id": "3d3783c6",
      "execution_count": null,
      "outputs": [
        {
          "output_type": "execute_result",
          "data": {
            "text/plain": [
              "Year\n",
              "2013    324180\n",
              "2014    710142\n",
              "2015    139431\n",
              "Name: YoutubeLikes, dtype: int64"
            ]
          },
          "metadata": {},
          "execution_count": 19
        }
      ]
    },
    {
      "cell_type": "markdown",
      "metadata": {
        "id": "0b45d31b"
      },
      "source": [
        "Then, we find the sum of dislikes year-wise by grouping the dataframe by the Year column and summing over the YoutubeDislikes column using the sum() function from the Pandas library."
      ],
      "id": "0b45d31b"
    },
    {
      "cell_type": "code",
      "metadata": {
        "colab": {
          "base_uri": "https://localhost:8080/"
        },
        "id": "5329ca79",
        "outputId": "9a14c53e-16d1-49ee-f829-d5a90187fdc4"
      },
      "source": [
        "# 15. finding number of YoutubeDislikes every year\n",
        "df.groupby(by='Year').YoutubeDislikes.sum()"
      ],
      "id": "5329ca79",
      "execution_count": null,
      "outputs": [
        {
          "output_type": "execute_result",
          "data": {
            "text/plain": [
              "Year\n",
              "2013     58156\n",
              "2014    104682\n",
              "2015     17127\n",
              "Name: YoutubeDislikes, dtype: int64"
            ]
          },
          "metadata": {},
          "execution_count": 20
        }
      ]
    },
    {
      "cell_type": "markdown",
      "metadata": {
        "id": "4ceb1197"
      },
      "source": [
        "Next, we convert the above results into a data frame using the DataFrame() function from the Pandas libray and plot it using the plot.bar() from the Pandas library."
      ],
      "id": "4ceb1197"
    },
    {
      "cell_type": "code",
      "metadata": {
        "colab": {
          "base_uri": "https://localhost:8080/",
          "height": 298
        },
        "id": "992621ac",
        "outputId": "f63c9fb0-a275-47c4-c9f3-98fac7dc8dd2"
      },
      "source": [
        "# listing the above results\n",
        "likes = [324180, 710142, 139431]\n",
        "dislikes = [58156, 104682, 17127]\n",
        "year = ['2013', '2014', '2015']\n",
        "\n",
        "# converting the results into a dataframe\n",
        "compare = pd.DataFrame({'likes':likes, 'dislikes':dislikes}, index=year)\n",
        "\n",
        "# 15. plotting the dataframe\n",
        "compare.plot.bar()"
      ],
      "id": "992621ac",
      "execution_count": null,
      "outputs": [
        {
          "output_type": "execute_result",
          "data": {
            "text/plain": [
              "<matplotlib.axes._subplots.AxesSubplot at 0x7f932981a650>"
            ]
          },
          "metadata": {},
          "execution_count": 21
        },
        {
          "output_type": "display_data",
          "data": {
            "image/png": "[encoded data removed]",
            "text/plain": [
              "<Figure size 432x288 with 1 Axes>"
            ]
          },
          "metadata": {
            "needs_background": "light"
          }
        }
      ]
    }
  ]
}