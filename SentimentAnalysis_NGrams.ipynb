{
 "cells": [
  {
   "cell_type": "markdown",
   "metadata": {},
   "source": [
    "# Exercise 2 - Text Analysis"
   ]
  },
  {
   "cell_type": "markdown",
   "metadata": {},
   "source": [
    "Author: Khushee Kapoor\n",
    "\n",
    "Week: 7\n",
    "\n",
    "Last Updated: 4/1/22"
   ]
  },
  {
   "cell_type": "markdown",
   "metadata": {},
   "source": [
    "To start, we import the following packages:\n",
    "\n",
    "-   NumPy: for data manipulation\n",
    "-   Pandas: for data manipulation\n",
    "-   MatPlotLib: for data visualization\n",
    "-   Seaborn: for data visualization"
   ]
  },
  {
   "cell_type": "code",
   "execution_count": 1,
   "metadata": {
    "execution": {
     "iopub.execute_input": "2022-01-01T16:55:09.136019Z",
     "iopub.status.busy": "2022-01-01T16:55:09.135663Z",
     "iopub.status.idle": "2022-01-01T16:55:10.253197Z",
     "shell.execute_reply": "2022-01-01T16:55:10.252134Z",
     "shell.execute_reply.started": "2022-01-01T16:55:09.135926Z"
    }
   },
   "outputs": [],
   "source": [
    "# importing the libraries\n",
    "import numpy as np\n",
    "import pandas as pd\n",
    "from matplotlib import pyplot as plt\n",
    "import seaborn as sns"
   ]
  },
  {
   "cell_type": "markdown",
   "metadata": {},
   "source": [
    "Next, we read the dataset. To do this, we use the read_csv() function from the Pandas library."
   ]
  },
  {
   "cell_type": "code",
   "execution_count": 2,
   "metadata": {
    "execution": {
     "iopub.execute_input": "2022-01-01T16:56:47.704331Z",
     "iopub.status.busy": "2022-01-01T16:56:47.703816Z",
     "iopub.status.idle": "2022-01-01T16:56:49.826092Z",
     "shell.execute_reply": "2022-01-01T16:56:49.825326Z",
     "shell.execute_reply.started": "2022-01-01T16:56:47.704279Z"
    }
   },
   "outputs": [],
   "source": [
    "# reading the dataset\n",
    "df = pd.read_csv('D:/khushee/Documents/Manipal/Study/Year 2/Data Analytics/Lab/amazon_baby.csv/amazon_baby.csv')"
   ]
  },
  {
   "cell_type": "markdown",
   "metadata": {},
   "source": [
    "After that, we view the first few rows of the dataset using the head() function from the Pandas library."
   ]
  },
  {
   "cell_type": "code",
   "execution_count": 3,
   "metadata": {
    "execution": {
     "iopub.execute_input": "2022-01-01T16:56:52.200282Z",
     "iopub.status.busy": "2022-01-01T16:56:52.199525Z",
     "iopub.status.idle": "2022-01-01T16:56:52.221039Z",
     "shell.execute_reply": "2022-01-01T16:56:52.21987Z",
     "shell.execute_reply.started": "2022-01-01T16:56:52.200233Z"
    }
   },
   "outputs": [
    {
     "data": {
      "text/html": [
       "<div>\n",
       "<style scoped>\n",
       "    .dataframe tbody tr th:only-of-type {\n",
       "        vertical-align: middle;\n",
       "    }\n",
       "\n",
       "    .dataframe tbody tr th {\n",
       "        vertical-align: top;\n",
       "    }\n",
       "\n",
       "    .dataframe thead th {\n",
       "        text-align: right;\n",
       "    }\n",
       "</style>\n",
       "<table border=\"1\" class=\"dataframe\">\n",
       "  <thead>\n",
       "    <tr style=\"text-align: right;\">\n",
       "      <th></th>\n",
       "      <th>name</th>\n",
       "      <th>review</th>\n",
       "      <th>rating</th>\n",
       "    </tr>\n",
       "  </thead>\n",
       "  <tbody>\n",
       "    <tr>\n",
       "      <th>0</th>\n",
       "      <td>Planetwise Flannel Wipes</td>\n",
       "      <td>These flannel wipes are OK, but in my opinion ...</td>\n",
       "      <td>3</td>\n",
       "    </tr>\n",
       "    <tr>\n",
       "      <th>1</th>\n",
       "      <td>Planetwise Wipe Pouch</td>\n",
       "      <td>it came early and was not disappointed. i love...</td>\n",
       "      <td>5</td>\n",
       "    </tr>\n",
       "    <tr>\n",
       "      <th>2</th>\n",
       "      <td>Annas Dream Full Quilt with 2 Shams</td>\n",
       "      <td>Very soft and comfortable and warmer than it l...</td>\n",
       "      <td>5</td>\n",
       "    </tr>\n",
       "    <tr>\n",
       "      <th>3</th>\n",
       "      <td>Stop Pacifier Sucking without tears with Thumb...</td>\n",
       "      <td>This is a product well worth the purchase.  I ...</td>\n",
       "      <td>5</td>\n",
       "    </tr>\n",
       "    <tr>\n",
       "      <th>4</th>\n",
       "      <td>Stop Pacifier Sucking without tears with Thumb...</td>\n",
       "      <td>All of my kids have cried non-stop when I trie...</td>\n",
       "      <td>5</td>\n",
       "    </tr>\n",
       "  </tbody>\n",
       "</table>\n",
       "</div>"
      ],
      "text/plain": [
       "                                                name  \\\n",
       "0                           Planetwise Flannel Wipes   \n",
       "1                              Planetwise Wipe Pouch   \n",
       "2                Annas Dream Full Quilt with 2 Shams   \n",
       "3  Stop Pacifier Sucking without tears with Thumb...   \n",
       "4  Stop Pacifier Sucking without tears with Thumb...   \n",
       "\n",
       "                                              review  rating  \n",
       "0  These flannel wipes are OK, but in my opinion ...       3  \n",
       "1  it came early and was not disappointed. i love...       5  \n",
       "2  Very soft and comfortable and warmer than it l...       5  \n",
       "3  This is a product well worth the purchase.  I ...       5  \n",
       "4  All of my kids have cried non-stop when I trie...       5  "
      ]
     },
     "execution_count": 3,
     "metadata": {},
     "output_type": "execute_result"
    }
   ],
   "source": [
    "# viewing the first few rows\n",
    "df.head()"
   ]
  },
  {
   "cell_type": "markdown",
   "metadata": {},
   "source": [
    "#### *Q12.*  Check the number of the reviews received for each product."
   ]
  },
  {
   "cell_type": "markdown",
   "metadata": {},
   "source": [
    "To solve Question 12, we use the value_counts() function from the Pandas library on the name column in the dataframe."
   ]
  },
  {
   "cell_type": "code",
   "execution_count": 4,
   "metadata": {
    "execution": {
     "iopub.execute_input": "2022-01-01T16:57:13.345916Z",
     "iopub.status.busy": "2022-01-01T16:57:13.345602Z",
     "iopub.status.idle": "2022-01-01T16:57:13.491054Z",
     "shell.execute_reply": "2022-01-01T16:57:13.49046Z",
     "shell.execute_reply.started": "2022-01-01T16:57:13.345882Z"
    }
   },
   "outputs": [
    {
     "data": {
      "text/plain": [
       "Vulli Sophie the Giraffe Teether                                                                                                                                                                              785\n",
       "Simple Wishes Hands-Free Breastpump Bra, Pink, XS-L                                                                                                                                                           562\n",
       "Infant Optics DXR-5 2.4 GHz Digital Video Baby Monitor with Night Vision                                                                                                                                      561\n",
       "Baby Einstein Take Along Tunes                                                                                                                                                                                547\n",
       "Cloud b Twilight Constellation Night Light, Turtle                                                                                                                                                            520\n",
       "                                                                                                                                                                                                             ... \n",
       "5 Gumdrop Pacifier with Blue Striped Pacifier Clip                                                                                                                                                              1\n",
       "New 925 Sterling Silver Baby/ Infant Anklet-Baby Bracelet-Baby Shower favors-Gift for Your Lovely Baby-Gorgeous Anklet Great Look for Your Baby\\'s Feet(B-1)Two function: can use it as anklet or bracelet      1\n",
       "Air Hogs Remote-Controlled Hover Assault, Black                                                                                                                                                                 1\n",
       "Infantino Euro Rider in Khaki and Black                                                                                                                                                                         1\n",
       "Central Park Changing Pad Cover - Toile                                                                                                                                                                         1\n",
       "Name: name, Length: 32415, dtype: int64"
      ]
     },
     "execution_count": 4,
     "metadata": {},
     "output_type": "execute_result"
    }
   ],
   "source": [
    "# checking for number of reviews received by each product\n",
    "df.name.value_counts()"
   ]
  },
  {
   "cell_type": "markdown",
   "metadata": {},
   "source": [
    "As we can see, there are 32415 items in the dataset and Vulli Sophie the Giraffe Teether has the highest reviews, and Bloom Universal Snug, Coconut White has the lowest reviews."
   ]
  },
  {
   "cell_type": "markdown",
   "metadata": {},
   "source": [
    "#### *Q13.* Check the products that have more than 15 reviews."
   ]
  },
  {
   "cell_type": "markdown",
   "metadata": {},
   "source": [
    "To solve Question 13, we use the value_counts() function from the Pandas library on the name column in the dataframe and then use the loc() and lambda functions to extract all those items having more than 15 reviews."
   ]
  },
  {
   "cell_type": "code",
   "execution_count": 5,
   "metadata": {
    "execution": {
     "iopub.execute_input": "2022-01-01T16:59:11.992837Z",
     "iopub.status.busy": "2022-01-01T16:59:11.99198Z",
     "iopub.status.idle": "2022-01-01T16:59:12.125568Z",
     "shell.execute_reply": "2022-01-01T16:59:12.124915Z",
     "shell.execute_reply.started": "2022-01-01T16:59:11.992788Z"
    },
    "scrolled": true
   },
   "outputs": [
    {
     "data": {
      "text/plain": [
       "Vulli Sophie the Giraffe Teether                                            785\n",
       "Simple Wishes Hands-Free Breastpump Bra, Pink, XS-L                         562\n",
       "Infant Optics DXR-5 2.4 GHz Digital Video Baby Monitor with Night Vision    561\n",
       "Baby Einstein Take Along Tunes                                              547\n",
       "Cloud b Twilight Constellation Night Light, Turtle                          520\n",
       "                                                                           ... \n",
       "Bumkins Cloth Diaper Cover, Pink Gazebo, One Size                            16\n",
       "Kushies Washable Pre-folded Diapers, White                                   16\n",
       "Foogo by Thermos Leak-Proof SS 12 oz Straw Bottle in Blue                    16\n",
       "Sassy Sensation Station Suction Toy                                          16\n",
       "Baby Einstein Discovering Music Activity Table                               16\n",
       "Name: name, Length: 2339, dtype: int64"
      ]
     },
     "execution_count": 5,
     "metadata": {},
     "output_type": "execute_result"
    }
   ],
   "source": [
    "# checking for products that recieved more than 15 reviews\n",
    "df.name.value_counts().loc[lambda x : x > 15]"
   ]
  },
  {
   "cell_type": "markdown",
   "metadata": {},
   "source": [
    "As we can see, the number of items has drastically reduced and there are only 2339 products now."
   ]
  },
  {
   "cell_type": "markdown",
   "metadata": {},
   "source": [
    "#### *Q14.* Find any missing review are present or not, If present remove those data."
   ]
  },
  {
   "cell_type": "markdown",
   "metadata": {},
   "source": [
    "To solve Question 14, we use the isnull() function from the Pandas library and then sum over them using the sum() function."
   ]
  },
  {
   "cell_type": "code",
   "execution_count": 6,
   "metadata": {
    "execution": {
     "iopub.execute_input": "2022-01-01T16:59:28.440955Z",
     "iopub.status.busy": "2022-01-01T16:59:28.440663Z",
     "iopub.status.idle": "2022-01-01T16:59:28.498113Z",
     "shell.execute_reply": "2022-01-01T16:59:28.497237Z",
     "shell.execute_reply.started": "2022-01-01T16:59:28.440927Z"
    }
   },
   "outputs": [
    {
     "data": {
      "text/plain": [
       "name      318\n",
       "review    829\n",
       "rating      0\n",
       "dtype: int64"
      ]
     },
     "execution_count": 6,
     "metadata": {},
     "output_type": "execute_result"
    }
   ],
   "source": [
    "# checking for missing values\n",
    "df.isnull().sum()"
   ]
  },
  {
   "cell_type": "markdown",
   "metadata": {},
   "source": [
    "As we can see, there are 829 missing values in the review column. To remove them, we filter the dataframe by using the notna() function from the Pandas library on the review column."
   ]
  },
  {
   "cell_type": "code",
   "execution_count": 7,
   "metadata": {
    "execution": {
     "iopub.execute_input": "2022-01-01T16:59:52.710172Z",
     "iopub.status.busy": "2022-01-01T16:59:52.708071Z",
     "iopub.status.idle": "2022-01-01T16:59:52.754813Z",
     "shell.execute_reply": "2022-01-01T16:59:52.754175Z",
     "shell.execute_reply.started": "2022-01-01T16:59:52.710129Z"
    }
   },
   "outputs": [],
   "source": [
    "# removing the entries with missing reviews\n",
    "df = df[df.review.notna()]"
   ]
  },
  {
   "cell_type": "markdown",
   "metadata": {},
   "source": [
    "#### *Q15.* Clean the data and remove the special characters and replace the contractions with its expansion by converting the uppercase character to lower case. Also, remove the punctuations."
   ]
  },
  {
   "cell_type": "markdown",
   "metadata": {},
   "source": [
    "To solve Question 15, we first create a dictionary with all the contractions and their expansions. "
   ]
  },
  {
   "cell_type": "code",
   "execution_count": 8,
   "metadata": {
    "execution": {
     "iopub.execute_input": "2022-01-01T17:00:30.546116Z",
     "iopub.status.busy": "2022-01-01T17:00:30.545724Z",
     "iopub.status.idle": "2022-01-01T17:00:30.565915Z",
     "shell.execute_reply": "2022-01-01T17:00:30.56468Z",
     "shell.execute_reply.started": "2022-01-01T17:00:30.546064Z"
    }
   },
   "outputs": [],
   "source": [
    "# creating a dictionary with contractions and their expansions\n",
    "contractions = {\n",
    "\"a'ight\":\"alright\",\n",
    "\"ain't\":\"are not\",\n",
    "\"amn't\":\"am not\",\n",
    "\"aren't\":\"are not\",\n",
    "\"can't\":\"cannot\",\n",
    "\"'cause\": \"because\",\n",
    "\"could've\":\"could have\",\n",
    "\"couldn't\":\"could not\",\n",
    "\"couldn't've\":\"could not have\",\n",
    "\"daren't\":\"dare not\",\n",
    "\"daresn't\":\"dare not\",\n",
    "\"dasn't\":\"dare not\",\n",
    "\"didn't\":\"did not\",\n",
    "\"doesn't\":\"does not\",\n",
    "\"don't\":\"do not\",\n",
    "\"everybody's\":\"everybody is\",\n",
    "\"everyone's\":\"everyone is\",\n",
    "\"giv'n\":\"given\",\n",
    "\"gonna\":\"going to\",\n",
    "\"gon't\":\"go not\", \n",
    "\"gotta\":\"got to\",\n",
    "\"hadn't\":\"had not\",\n",
    "\"had've\":\"had have\",\n",
    "\"hasn't\":\"has not\",\n",
    "\"haven't\":\"have not\",\n",
    "\"he'd\":\"he had\", \n",
    "\"he'll\":\"he will\",\n",
    "\"he's\":\"he is\",\n",
    "\"here's\":\"here is\",\n",
    "\"how'd\":\"how did\",\n",
    "\"how'll\":\"how will\",\n",
    "\"how're\":\"how are\",\n",
    "\"how's\":\"how is\",\n",
    "\"I'd\":\"I had\",\n",
    "\"I'd've\":\"I would have\",\n",
    "\"I'd'nt\":\"I would not\",\n",
    "\"I'd'nt've\":\"I would not have\",\n",
    "\"I'll\":\"I will\",\n",
    "\"I'm\":\"I am\",\n",
    "\"I've\":\"I have\",\n",
    "\"isn't\":\"is not\",\n",
    "\"it'd\":\"it would\",\n",
    "\"it'll\":\"it will\",\n",
    "\"it's\":\"it is\",\n",
    "\"let's\":\"let us\",\n",
    "\"ma'am\":\"madam\",\n",
    "\"mayn't\":\"may not\",\n",
    "\"may've\":\"may have\",\n",
    "\"mightn't\":\"might not\",\n",
    "\"might've\":\"might have\",\n",
    "\"mustn't\":\"must not\",\n",
    "\"mustn't've\":\"must not have\",\n",
    "\"must've\":\"must have\",\n",
    "\"needn't\":\"need not\",\n",
    "\"needn't've\":\"need not have\",\n",
    "\"o'clock\":\"of the clock\",\n",
    "\"oughtn't\":\"ought not\",\n",
    "\"oughtn't've\":\"ought not have\",\n",
    "\"shan't\":\"shall not\",\n",
    "\"she'd\":\"she would\",\n",
    "\"she'll\":\"she will\",\n",
    "\"she's\":\"she is\",\n",
    "\"should've\":\"should have\",\n",
    "\"shouldn't\":\"should not\",\n",
    "\"shouldn't've\":\"should not have\",\n",
    "\"somebody's\":\"somebody is\",\n",
    "\"someone's\":\"someone is\",\n",
    "\"something's\":\"something is\",\n",
    "\"so're\":\"so are\",\n",
    "\"so’s\":\"so is\",\n",
    "\"so’ve\":\"so have\",\n",
    "\"that'll\":\"that will\",\n",
    "\"that're\":\"that are\",\n",
    "\"that's\":\"that is\",\n",
    "\"that'd\":\"that would\",\n",
    "\"there'd\":\"there would\",\n",
    "\"there'll\":\"there will\",\n",
    "\"there're\":\"there are\",\n",
    "\"there's\":\"there is\",\n",
    "\"these're\":\"these are\",\n",
    "\"these've\":\"these have\",\n",
    "\"they'd\":\"they would\",\n",
    "\"they'll\":\"they will\",\n",
    "\"they're\":\"they are\",\n",
    "\"they've\":\"they have\",\n",
    "\"this's\":\"this is\",\n",
    "\"those're\":\"those are\",\n",
    "\"those've\":\"those have\",\n",
    "\"to've\":\"to have\",\n",
    "\"wasn't\":\"was not\",\n",
    "\"we'd\":\"we would\",\n",
    "\"we'd've\":\"we would have\",\n",
    "\"we'll\":\"we will\",\n",
    "\"we're\":\"we are\",\n",
    "\"we've\":\"we have\",\n",
    "\"weren't\":\"were not\",\n",
    "\"what'd\":\"what did\",\n",
    "\"what'll\":\"what will\",\n",
    "\"what're\":\"what are\",\n",
    "\"what's\":\"what is\",\n",
    "\"what've\":\"what have\",\n",
    "\"when's\":\"when is\",\n",
    "\"where'd\":\"where did\",\n",
    "\"where'll\":\"where will\",\n",
    "\"where're\":\"where are\",\n",
    "\"where's\":\"where is\",\n",
    "\"where've\":\"where have\",\n",
    "\"which'd\":\"which would\",\n",
    "\"which'll\":\"which will\",\n",
    "\"which're\":\"which are\",\n",
    "\"which's\":\"which is\",\n",
    "\"which've\":\"which have\",\n",
    "\"who'd\":\"who would\",\n",
    "\"who'd've\":\"who would have\",\n",
    "\"who'll\":\"who will\",\n",
    "\"who're\":\"who are\",\n",
    "\"who's\":\"who is\",\n",
    "\"who've\":\"who have\",\n",
    "\"why'd\":\"why did\",\n",
    "\"why're\":\"why are\",\n",
    "\"why's\":\"why is\",\n",
    "\"won't\":\"will not\",\n",
    "\"would've\":\"would have\",\n",
    "\"wouldn't\":\"would not\",\n",
    "\"wouldn't've\":\"would not have\",\n",
    "\"y'at\":\"you at\",\n",
    "\"yes’m\":\"yes madam\",\n",
    "\"you'd\":\"you would\",\n",
    "\"you'll\":\"you will\",\n",
    "\"you're\":\"you are\",\n",
    "\"you've\":\"you have\"}"
   ]
  },
  {
   "cell_type": "markdown",
   "metadata": {},
   "source": [
    "Next, we create a custom made function to convert the contractions to expansions. This function loops over the previously created dictionary and uses the replace() function from the string library to replace the contractions with the expansions."
   ]
  },
  {
   "cell_type": "code",
   "execution_count": 9,
   "metadata": {
    "execution": {
     "iopub.execute_input": "2022-01-01T17:00:51.943829Z",
     "iopub.status.busy": "2022-01-01T17:00:51.943413Z",
     "iopub.status.idle": "2022-01-01T17:00:51.94833Z",
     "shell.execute_reply": "2022-01-01T17:00:51.947632Z",
     "shell.execute_reply.started": "2022-01-01T17:00:51.943796Z"
    }
   },
   "outputs": [],
   "source": [
    "# custom made function to convert contraction to expansion\n",
    "def cont_to_exp(x):\n",
    "    if type(x) is str:\n",
    "        x = x.replace('\\\\','')\n",
    "        for key in contractions:\n",
    "            value = contractions[key]\n",
    "            x = x.replace(key, value)\n",
    "        return x\n",
    "    else:\n",
    "        return x"
   ]
  },
  {
   "cell_type": "markdown",
   "metadata": {},
   "source": [
    "After that, we apply the function on every observation in the review column. To do that, we use the apply() function from the Pandas library and the lambda function."
   ]
  },
  {
   "cell_type": "code",
   "execution_count": 10,
   "metadata": {
    "execution": {
     "iopub.execute_input": "2022-01-01T17:01:14.857998Z",
     "iopub.status.busy": "2022-01-01T17:01:14.857321Z",
     "iopub.status.idle": "2022-01-01T17:01:30.822351Z",
     "shell.execute_reply": "2022-01-01T17:01:30.821349Z",
     "shell.execute_reply.started": "2022-01-01T17:01:14.857943Z"
    }
   },
   "outputs": [],
   "source": [
    "# converting contraction to expansion in every row of the review column\n",
    "df['review'] = df['review'].apply(lambda x:cont_to_exp(x))"
   ]
  },
  {
   "cell_type": "markdown",
   "metadata": {},
   "source": [
    "Next, we create a custom made function to convert upper case to lower case. This function implements the lower() function from the string package."
   ]
  },
  {
   "cell_type": "code",
   "execution_count": 11,
   "metadata": {},
   "outputs": [],
   "source": [
    "# custom made function to convert upper case to lower\n",
    "def upper_to_lower(x):\n",
    "    if type(x) is str:\n",
    "        return x.lower()\n",
    "    else:\n",
    "        return x"
   ]
  },
  {
   "cell_type": "markdown",
   "metadata": {},
   "source": [
    "After that, we apply the function on every observation in the review column. To do that, we use the apply() function from the Pandas library and the lambda function."
   ]
  },
  {
   "cell_type": "code",
   "execution_count": 12,
   "metadata": {},
   "outputs": [],
   "source": [
    "# converting upper case to lower from every row of the review column\n",
    "df['review'] = df['review'].apply(lambda x:upper_to_lower(x))"
   ]
  },
  {
   "cell_type": "markdown",
   "metadata": {},
   "source": [
    "Next, we create a custom made function to remove the punctuations. This function loops over every punctutation in the string.punctuation constant from the string library and use the replace() function to replace them with blanks."
   ]
  },
  {
   "cell_type": "code",
   "execution_count": 13,
   "metadata": {},
   "outputs": [],
   "source": [
    "# custom made function to remove punctuations\n",
    "import string\n",
    "def remove_punctuations(text):\n",
    "    if type(text) is str:\n",
    "        for p in string.punctuation:\n",
    "            text = text.replace(p, '')\n",
    "        return text\n",
    "    else:\n",
    "        return text    "
   ]
  },
  {
   "cell_type": "markdown",
   "metadata": {},
   "source": [
    "After that, we apply the function on every observation in the review column. To do that, we use the apply() function from the Pandas library and the lambda function."
   ]
  },
  {
   "cell_type": "code",
   "execution_count": 14,
   "metadata": {},
   "outputs": [],
   "source": [
    "# removing punctuations from every row of the review column\n",
    "df['review'] = df['review'].apply(lambda x:remove_punctuations(x))"
   ]
  },
  {
   "cell_type": "markdown",
   "metadata": {},
   "source": [
    "Next, we create a custom made function to remove the special characters. This function loops over every character from a custom made string containing all special characters and use the replace() function to replace them with blanks."
   ]
  },
  {
   "cell_type": "code",
   "execution_count": 15,
   "metadata": {},
   "outputs": [],
   "source": [
    "# custom made function to remove special characters\n",
    "def remove_special_chars(text):\n",
    "    special_chars = '''!()-[]{};:'\"\\,<>./?@#$%^&*_~'''\n",
    "    if type(text) is str:\n",
    "        for p in special_chars:\n",
    "            text = text.replace(p, '')\n",
    "        return text\n",
    "    else:\n",
    "        return text"
   ]
  },
  {
   "cell_type": "markdown",
   "metadata": {},
   "source": [
    "After that, we apply the function on every observation in the review column. To do that, we use the apply() function from the Pandas library and the lambda function."
   ]
  },
  {
   "cell_type": "code",
   "execution_count": 16,
   "metadata": {},
   "outputs": [],
   "source": [
    "# removing special characters from every row of the review column\n",
    "df['review'] = df['review'].apply(lambda x:remove_special_chars(x))"
   ]
  },
  {
   "cell_type": "markdown",
   "metadata": {},
   "source": [
    "#### *Q16.* Add the Polarity, length of the review, the word count and average word length of each review."
   ]
  },
  {
   "cell_type": "markdown",
   "metadata": {},
   "source": [
    "To solve Question 16, we first import the textblob package."
   ]
  },
  {
   "cell_type": "code",
   "execution_count": 17,
   "metadata": {
    "execution": {
     "iopub.execute_input": "2022-01-01T17:04:02.486908Z",
     "iopub.status.busy": "2022-01-01T17:04:02.486594Z",
     "iopub.status.idle": "2022-01-01T17:04:03.277828Z",
     "shell.execute_reply": "2022-01-01T17:04:03.277062Z",
     "shell.execute_reply.started": "2022-01-01T17:04:02.486874Z"
    }
   },
   "outputs": [],
   "source": [
    "# importing the text blob package\n",
    "from textblob import TextBlob"
   ]
  },
  {
   "cell_type": "markdown",
   "metadata": {},
   "source": [
    "Next, we create three new columns,\n",
    "\n",
    "-   polarity: to store polarity by using the sentiment.polarity parameter of the TextBlob function and lambda function\n",
    "-   review_len: to store review length by using the len() and lambda functions\n",
    "-   word_count: to store word count by using the len(), split() and lambda functions"
   ]
  },
  {
   "cell_type": "code",
   "execution_count": 18,
   "metadata": {
    "execution": {
     "iopub.execute_input": "2022-01-01T17:04:40.404448Z",
     "iopub.status.busy": "2022-01-01T17:04:40.404176Z",
     "iopub.status.idle": "2022-01-01T17:07:08.383255Z",
     "shell.execute_reply": "2022-01-01T17:07:08.381905Z",
     "shell.execute_reply.started": "2022-01-01T17:04:40.40442Z"
    }
   },
   "outputs": [],
   "source": [
    "# polarity column\n",
    "df['polarity'] = df['review'].apply(lambda x: TextBlob(x).sentiment.polarity)\n",
    "\n",
    "# review length column\n",
    "df['review_len'] = df['review'].apply(lambda x:len(x))\n",
    "\n",
    "# word count column\n",
    "df['word_count'] = df['review'].apply(lambda x: len(x.split()))"
   ]
  },
  {
   "cell_type": "markdown",
   "metadata": {},
   "source": [
    "Following that, we create a custom made function to calculate the average word length. This function divided the total length of all the words combined by the total number of words in every entry."
   ]
  },
  {
   "cell_type": "code",
   "execution_count": 19,
   "metadata": {
    "execution": {
     "iopub.execute_input": "2022-01-01T17:07:08.386617Z",
     "iopub.status.busy": "2022-01-01T17:07:08.386238Z",
     "iopub.status.idle": "2022-01-01T17:07:08.393232Z",
     "shell.execute_reply": "2022-01-01T17:07:08.392539Z",
     "shell.execute_reply.started": "2022-01-01T17:07:08.386563Z"
    }
   },
   "outputs": [],
   "source": [
    "# custom made function to calculate and return average word length\n",
    "def get_avg_word_len(x):\n",
    "    words = x.split()\n",
    "    word_len = 0\n",
    "    for word in words:\n",
    "        word_len = word_len + len(word)\n",
    "        \n",
    "    return word_len/len(words) "
   ]
  },
  {
   "cell_type": "markdown",
   "metadata": {},
   "source": [
    "After that, we apply the function on every observation in the review column. To do that, we use the apply() function from the Pandas library and the lambda function."
   ]
  },
  {
   "cell_type": "code",
   "execution_count": 20,
   "metadata": {
    "execution": {
     "iopub.execute_input": "2022-01-01T17:07:08.394805Z",
     "iopub.status.busy": "2022-01-01T17:07:08.394545Z",
     "iopub.status.idle": "2022-01-01T17:07:11.14283Z",
     "shell.execute_reply": "2022-01-01T17:07:11.142058Z",
     "shell.execute_reply.started": "2022-01-01T17:07:08.394777Z"
    }
   },
   "outputs": [],
   "source": [
    "# calculating average word length of every review\n",
    "df['avg_word_len'] = df['review'].apply(lambda x: get_avg_word_len(x))"
   ]
  },
  {
   "cell_type": "markdown",
   "metadata": {},
   "source": [
    "#### *Q17.* Visualize the distribution of the word count, review length, and polarity."
   ]
  },
  {
   "cell_type": "markdown",
   "metadata": {},
   "source": [
    "To solve Question 17, we use the hist() function from the Pandas library and matplotlib aesthetic functions to plot histograms for every column."
   ]
  },
  {
   "cell_type": "code",
   "execution_count": 21,
   "metadata": {},
   "outputs": [
    {
     "data": {
      "text/plain": [
       "Text(0.5, 1.0, 'Sentiment Polarity Distribution')"
      ]
     },
     "execution_count": 21,
     "metadata": {},
     "output_type": "execute_result"
    },
    {
     "data": {
      "image/png": "[encoded data removed]",
      "text/plain": [
       "<Figure size 432x288 with 1 Axes>"
      ]
     },
     "metadata": {
      "needs_background": "light"
     },
     "output_type": "display_data"
    }
   ],
   "source": [
    "# histogram for polarity\n",
    "df['polarity'].hist(bins=20)\n",
    "plt.xlabel('polarity')\n",
    "plt.ylabel('count')\n",
    "plt.title('Sentiment Polarity Distribution')"
   ]
  },
  {
   "cell_type": "markdown",
   "metadata": {},
   "source": [
    "As we can see, the distribution of polarity is more or less normal, may be slightly left skewed."
   ]
  },
  {
   "cell_type": "code",
   "execution_count": 22,
   "metadata": {},
   "outputs": [
    {
     "data": {
      "text/plain": [
       "Text(0.5, 1.0, 'Review Text Length Distribution')"
      ]
     },
     "execution_count": 22,
     "metadata": {},
     "output_type": "execute_result"
    },
    {
     "data": {
      "image/png": "[encoded data removed]",
      "text/plain": [
       "<Figure size 432x288 with 1 Axes>"
      ]
     },
     "metadata": {
      "needs_background": "light"
     },
     "output_type": "display_data"
    }
   ],
   "source": [
    "# histogram for review length\n",
    "df['review_len'].hist(bins=20)\n",
    "plt.xlabel('review length')\n",
    "plt.ylabel('count')\n",
    "plt.title('Review Text Length Distribution')"
   ]
  },
  {
   "cell_type": "markdown",
   "metadata": {},
   "source": [
    "As we can see, the distribution of review length is highly right skewed. "
   ]
  },
  {
   "cell_type": "code",
   "execution_count": 23,
   "metadata": {},
   "outputs": [
    {
     "data": {
      "text/plain": [
       "Text(0.5, 1.0, 'Word Count Distribution')"
      ]
     },
     "execution_count": 23,
     "metadata": {},
     "output_type": "execute_result"
    },
    {
     "data": {
      "image/png": "[encoded data removed]",
      "text/plain": [
       "<Figure size 432x288 with 1 Axes>"
      ]
     },
     "metadata": {
      "needs_background": "light"
     },
     "output_type": "display_data"
    }
   ],
   "source": [
    "# histogram for word count\n",
    "df['word_count'].hist(bins=20)\n",
    "plt.xlabel('word count')\n",
    "plt.ylabel('count')\n",
    "plt.title('Word Count Distribution')"
   ]
  },
  {
   "cell_type": "markdown",
   "metadata": {},
   "source": [
    "As we can see, the distribution of word count is highly right skewed."
   ]
  },
  {
   "cell_type": "markdown",
   "metadata": {},
   "source": [
    "#### *Q18.* Visualize polarity considering the rating."
   ]
  },
  {
   "cell_type": "markdown",
   "metadata": {},
   "source": [
    "To solve Question 18, we use the groupby() function to group the dataframe based on rating, the aggregate() function on the polarity column of the grouped dataframe to aggregate the polarity based on mean, calculated using np.mean, and then the plot() function to plot a line chart of polarity considering rating. All these functions are from the Pandas library. We also use matplotlib aesthetic functions to enhance the readability of the plot."
   ]
  },
  {
   "cell_type": "code",
   "execution_count": 24,
   "metadata": {},
   "outputs": [
    {
     "data": {
      "text/plain": [
       "Text(0.5, 1.0, 'Polarity considering Rating')"
      ]
     },
     "execution_count": 24,
     "metadata": {},
     "output_type": "execute_result"
    },
    {
     "data": {
      "image/png": "[encoded data removed]",
      "text/plain": [
       "<Figure size 432x288 with 1 Axes>"
      ]
     },
     "metadata": {
      "needs_background": "light"
     },
     "output_type": "display_data"
    }
   ],
   "source": [
    "# line chart for polarity considering rating\n",
    "df.groupby(by='rating').polarity.agg([np.mean]).plot()\n",
    "plt.xlabel('rating')\n",
    "plt.ylabel('polarity')\n",
    "plt.title('Polarity considering Rating')"
   ]
  },
  {
   "cell_type": "markdown",
   "metadata": {},
   "source": [
    "As we can see, as the rating increases, the polarity also increases positively."
   ]
  },
  {
   "cell_type": "markdown",
   "metadata": {},
   "source": [
    "#### *Q19.* Visualize the count of the reviews of each rating available in the dataset."
   ]
  },
  {
   "cell_type": "markdown",
   "metadata": {},
   "source": [
    "To sovle Question 19, we use the groupby() function from the Pandas library to group the dataset by rating, then we use the count() function to count the number of reviews received by each rating, and finally we use the plot.bar() function from the Pandas library to plot a barplot to display the number of reviews received by each rating. We also use matplotlib aesthetic functions to enhance the readability of the graph."
   ]
  },
  {
   "cell_type": "code",
   "execution_count": 25,
   "metadata": {},
   "outputs": [
    {
     "data": {
      "text/plain": [
       "Text(0.5, 1.0, 'count of the reviews of each rating')"
      ]
     },
     "execution_count": 25,
     "metadata": {},
     "output_type": "execute_result"
    },
    {
     "data": {
      "image/png": "[encoded data removed]",
      "text/plain": [
       "<Figure size 432x288 with 1 Axes>"
      ]
     },
     "metadata": {
      "needs_background": "light"
     },
     "output_type": "display_data"
    }
   ],
   "source": [
    "# barplot for count of reviews for each rating\n",
    "df.groupby(by='rating').review.count().plot.bar()\n",
    "plt.xlabel('rating')\n",
    "plt.ylabel('no. of reviews')\n",
    "plt.title('count of the reviews of each rating')"
   ]
  },
  {
   "cell_type": "markdown",
   "metadata": {},
   "source": [
    "As we can see, the highest rating has received the highest number of recviews, followed by rating 4, rating 3, rating 1, and rating 2. "
   ]
  },
  {
   "cell_type": "markdown",
   "metadata": {},
   "source": [
    "#### *Q20.* List the Top 20 products based on the polarity."
   ]
  },
  {
   "cell_type": "markdown",
   "metadata": {},
   "source": [
    "To solve Question 20, we use the sort_values() function from the Pandas library, and set the parameters by to polarity and ascending to False to sort the dataframe by the polarity column in the descening order. Then we splice the resultant dataset to obtain the top 20 values."
   ]
  },
  {
   "cell_type": "code",
   "execution_count": 26,
   "metadata": {},
   "outputs": [
    {
     "data": {
      "text/html": [
       "<div>\n",
       "<style scoped>\n",
       "    .dataframe tbody tr th:only-of-type {\n",
       "        vertical-align: middle;\n",
       "    }\n",
       "\n",
       "    .dataframe tbody tr th {\n",
       "        vertical-align: top;\n",
       "    }\n",
       "\n",
       "    .dataframe thead th {\n",
       "        text-align: right;\n",
       "    }\n",
       "</style>\n",
       "<table border=\"1\" class=\"dataframe\">\n",
       "  <thead>\n",
       "    <tr style=\"text-align: right;\">\n",
       "      <th></th>\n",
       "      <th>name</th>\n",
       "      <th>polarity</th>\n",
       "      <th>rating</th>\n",
       "    </tr>\n",
       "  </thead>\n",
       "  <tbody>\n",
       "    <tr>\n",
       "      <th>62514</th>\n",
       "      <td>Lambs and Ivy Luv Bugs Musical Mobile, Plum</td>\n",
       "      <td>1.0</td>\n",
       "      <td>5</td>\n",
       "    </tr>\n",
       "    <tr>\n",
       "      <th>125902</th>\n",
       "      <td>Dream On Me 4&amp;quot; Full Size Foam Crib and To...</td>\n",
       "      <td>1.0</td>\n",
       "      <td>5</td>\n",
       "    </tr>\n",
       "    <tr>\n",
       "      <th>175206</th>\n",
       "      <td>NurSit Basic Nursing Pillow, Dots Print</td>\n",
       "      <td>1.0</td>\n",
       "      <td>5</td>\n",
       "    </tr>\n",
       "    <tr>\n",
       "      <th>28506</th>\n",
       "      <td>HALO SleepSack Big Kids Micro-Fleece Wearable ...</td>\n",
       "      <td>1.0</td>\n",
       "      <td>5</td>\n",
       "    </tr>\n",
       "    <tr>\n",
       "      <th>28475</th>\n",
       "      <td>Graco Pack \\'n Play Theresa</td>\n",
       "      <td>1.0</td>\n",
       "      <td>5</td>\n",
       "    </tr>\n",
       "    <tr>\n",
       "      <th>125611</th>\n",
       "      <td>Dr. Brown\\'s 2 Pack Natural Flow Y-Cut Standar...</td>\n",
       "      <td>1.0</td>\n",
       "      <td>5</td>\n",
       "    </tr>\n",
       "    <tr>\n",
       "      <th>125646</th>\n",
       "      <td>timi &amp;amp; leslie Annette 7-Piece Diaper Bag S...</td>\n",
       "      <td>1.0</td>\n",
       "      <td>5</td>\n",
       "    </tr>\n",
       "    <tr>\n",
       "      <th>1213</th>\n",
       "      <td>Thomas &amp;amp; Friends - 3 Piece Dinnerware Set-...</td>\n",
       "      <td>1.0</td>\n",
       "      <td>5</td>\n",
       "    </tr>\n",
       "    <tr>\n",
       "      <th>148628</th>\n",
       "      <td>Munchkin Time Saver Bottle Warmer, White</td>\n",
       "      <td>1.0</td>\n",
       "      <td>1</td>\n",
       "    </tr>\n",
       "    <tr>\n",
       "      <th>183124</th>\n",
       "      <td>Evenflo JourneyLite Travel System with Embrace...</td>\n",
       "      <td>1.0</td>\n",
       "      <td>5</td>\n",
       "    </tr>\n",
       "    <tr>\n",
       "      <th>69784</th>\n",
       "      <td>Edushape Bath Crayons</td>\n",
       "      <td>1.0</td>\n",
       "      <td>1</td>\n",
       "    </tr>\n",
       "    <tr>\n",
       "      <th>63777</th>\n",
       "      <td>Carters Super Soft Bumper, Pink</td>\n",
       "      <td>1.0</td>\n",
       "      <td>5</td>\n",
       "    </tr>\n",
       "    <tr>\n",
       "      <th>165510</th>\n",
       "      <td>BestDealUSA 2M Baby Child Safety Corner Protec...</td>\n",
       "      <td>1.0</td>\n",
       "      <td>5</td>\n",
       "    </tr>\n",
       "    <tr>\n",
       "      <th>89954</th>\n",
       "      <td>BabyComfyNose Nasal Aspirator (Blue)</td>\n",
       "      <td>1.0</td>\n",
       "      <td>5</td>\n",
       "    </tr>\n",
       "    <tr>\n",
       "      <th>158366</th>\n",
       "      <td>Replacement Valve and Membrane for Medela Brea...</td>\n",
       "      <td>1.0</td>\n",
       "      <td>5</td>\n",
       "    </tr>\n",
       "    <tr>\n",
       "      <th>27992</th>\n",
       "      <td>Gymnic / Rockin\\' Rody Inflatable Horse with R...</td>\n",
       "      <td>1.0</td>\n",
       "      <td>5</td>\n",
       "    </tr>\n",
       "    <tr>\n",
       "      <th>126286</th>\n",
       "      <td>green sprouts Fruit Cool Soothing Teether, Apple</td>\n",
       "      <td>1.0</td>\n",
       "      <td>5</td>\n",
       "    </tr>\n",
       "    <tr>\n",
       "      <th>27524</th>\n",
       "      <td>Fisher-Price Rainforest Melodies and Lights De...</td>\n",
       "      <td>1.0</td>\n",
       "      <td>4</td>\n",
       "    </tr>\n",
       "    <tr>\n",
       "      <th>175181</th>\n",
       "      <td>Maymom MyFit Breast Pump Kit for Medela Pump i...</td>\n",
       "      <td>1.0</td>\n",
       "      <td>5</td>\n",
       "    </tr>\n",
       "    <tr>\n",
       "      <th>63463</th>\n",
       "      <td>Jeep Deluxe Stroller Weather Shield</td>\n",
       "      <td>1.0</td>\n",
       "      <td>5</td>\n",
       "    </tr>\n",
       "  </tbody>\n",
       "</table>\n",
       "</div>"
      ],
      "text/plain": [
       "                                                     name  polarity  rating\n",
       "62514         Lambs and Ivy Luv Bugs Musical Mobile, Plum       1.0       5\n",
       "125902  Dream On Me 4&quot; Full Size Foam Crib and To...       1.0       5\n",
       "175206            NurSit Basic Nursing Pillow, Dots Print       1.0       5\n",
       "28506   HALO SleepSack Big Kids Micro-Fleece Wearable ...       1.0       5\n",
       "28475                         Graco Pack \\'n Play Theresa       1.0       5\n",
       "125611  Dr. Brown\\'s 2 Pack Natural Flow Y-Cut Standar...       1.0       5\n",
       "125646  timi &amp; leslie Annette 7-Piece Diaper Bag S...       1.0       5\n",
       "1213    Thomas &amp; Friends - 3 Piece Dinnerware Set-...       1.0       5\n",
       "148628           Munchkin Time Saver Bottle Warmer, White       1.0       1\n",
       "183124  Evenflo JourneyLite Travel System with Embrace...       1.0       5\n",
       "69784                               Edushape Bath Crayons       1.0       1\n",
       "63777                     Carters Super Soft Bumper, Pink       1.0       5\n",
       "165510  BestDealUSA 2M Baby Child Safety Corner Protec...       1.0       5\n",
       "89954                BabyComfyNose Nasal Aspirator (Blue)       1.0       5\n",
       "158366  Replacement Valve and Membrane for Medela Brea...       1.0       5\n",
       "27992   Gymnic / Rockin\\' Rody Inflatable Horse with R...       1.0       5\n",
       "126286   green sprouts Fruit Cool Soothing Teether, Apple       1.0       5\n",
       "27524   Fisher-Price Rainforest Melodies and Lights De...       1.0       4\n",
       "175181  Maymom MyFit Breast Pump Kit for Medela Pump i...       1.0       5\n",
       "63463                 Jeep Deluxe Stroller Weather Shield       1.0       5"
      ]
     },
     "execution_count": 26,
     "metadata": {},
     "output_type": "execute_result"
    }
   ],
   "source": [
    "# obtaining top 20 products based on polarity\n",
    "df.sort_values(by='polarity')[0:20]"
   ]
  },
  {
   "cell_type": "markdown",
   "metadata": {},
   "source": [
    "#### *Q21.* Visualize to check whether the review length changes with rating."
   ]
  },
  {
   "cell_type": "markdown",
   "metadata": {},
   "source": [
    "To solve Question 21, we use the barplot() function from the Seaborn library, and plot the rating column on the x-axis and review length on the y-axis. We also use aesthetic functions from the matplotlib library to make the plot more readable."
   ]
  },
  {
   "cell_type": "code",
   "execution_count": 27,
   "metadata": {},
   "outputs": [
    {
     "data": {
      "text/plain": [
       "Text(0.5, 1.0, 'Review Length vs Rating')"
      ]
     },
     "execution_count": 27,
     "metadata": {},
     "output_type": "execute_result"
    },
    {
     "data": {
      "image/png": "[encoded data removed]",
      "text/plain": [
       "<Figure size 432x288 with 1 Axes>"
      ]
     },
     "metadata": {
      "needs_background": "light"
     },
     "output_type": "display_data"
    }
   ],
   "source": [
    "# checking for change in review length\n",
    "sns.barplot(x='rating', y='review_len', data=df, ci=None)\n",
    "plt.xlabel('rating')\n",
    "plt.ylabel('review length')\n",
    "plt.title('Review Length vs Rating')"
   ]
  },
  {
   "cell_type": "markdown",
   "metadata": {},
   "source": [
    "As we can see, except rating 5, the review length for ratings 1, 2, 3 and 4 is more or less the same, and the review length for rating 5 is significantly lesser than the other ratings."
   ]
  },
  {
   "cell_type": "markdown",
   "metadata": {},
   "source": [
    "#### *Q22* Visualize the distribution of Top 25 Unigram, Bigram and Trigram."
   ]
  },
  {
   "cell_type": "markdown",
   "metadata": {},
   "source": [
    "To solve Question 22, we first import the CountVectorizer module from the sklearn library."
   ]
  },
  {
   "cell_type": "code",
   "execution_count": 28,
   "metadata": {},
   "outputs": [],
   "source": [
    "# importing CountVectorizer\n",
    "from sklearn.feature_extraction.text import CountVectorizer"
   ]
  },
  {
   "cell_type": "markdown",
   "metadata": {},
   "source": [
    "To visualize the distribution of unigrams, we create a custom made function to get the top n unigrams/ words. This function uses CountVectorizer to generate unigrams from the review after removing the stop words, calculates the frequency of each unigram, then splices and returns the top n unigrams and their frequency sorted in the descending order based on frequency."
   ]
  },
  {
   "cell_type": "code",
   "execution_count": 29,
   "metadata": {},
   "outputs": [],
   "source": [
    "# custom made function to return the top n unigrams\n",
    "def get_top_n_words(x, n=25):\n",
    "    vec = CountVectorizer(stop_words='english').fit(x)\n",
    "    bag_of_words = vec.transform(x)\n",
    "    sum_words = bag_of_words.sum(axis=0) \n",
    "    words_freq = [(word, sum_words[0, idx]) for word, idx in vec.vocabulary_.items()]\n",
    "    words_freq =sorted(words_freq, key = lambda x: x[1], reverse=True)\n",
    "    return words_freq[:n]"
   ]
  },
  {
   "cell_type": "markdown",
   "metadata": {},
   "source": [
    "After that, we call the previously created function and pass the review column and specify n to be 25, and store the returned value in a variable."
   ]
  },
  {
   "cell_type": "code",
   "execution_count": 30,
   "metadata": {},
   "outputs": [
    {
     "data": {
      "text/plain": [
       "[('baby', 79604),\n",
       " ('great', 59536),\n",
       " ('just', 56542),\n",
       " ('use', 53037),\n",
       " ('like', 51662),\n",
       " ('love', 43866),\n",
       " ('seat', 43752),\n",
       " ('little', 41617),\n",
       " ('easy', 41216),\n",
       " ('old', 39427),\n",
       " ('does', 36703),\n",
       " ('really', 35010),\n",
       " ('product', 34083),\n",
       " ('time', 33455),\n",
       " ('did', 32212),\n",
       " ('son', 32197),\n",
       " ('bought', 31693),\n",
       " ('good', 29706),\n",
       " ('daughter', 27652),\n",
       " ('stroller', 26297),\n",
       " ('months', 26117),\n",
       " ('used', 23810),\n",
       " ('car', 23673),\n",
       " ('loves', 22348),\n",
       " ('recommend', 20737)]"
      ]
     },
     "execution_count": 30,
     "metadata": {},
     "output_type": "execute_result"
    }
   ],
   "source": [
    "# calling function and storing result in a variable\n",
    "common_words = get_top_n_words(df['review'], 25)\n",
    "common_words"
   ]
  },
  {
   "cell_type": "markdown",
   "metadata": {},
   "source": [
    "As we can see, we have received a list of tuples containing the top 25 unigrams and their frequencies."
   ]
  },
  {
   "cell_type": "markdown",
   "metadata": {},
   "source": [
    "Next, we create a dataframe of the returned list using the DataFrame() function from the Pandas library and set the index to be the Unigrams to make our further analysis easier."
   ]
  },
  {
   "cell_type": "code",
   "execution_count": 31,
   "metadata": {},
   "outputs": [],
   "source": [
    "# creating a dataframe from the returned list\n",
    "df1 = pd.DataFrame(common_words, columns = ['Unigram Text' , 'Count'])\n",
    "\n",
    "# setting index to be unigrams\n",
    "df1.set_index('Unigram Text', drop=True, inplace=True)"
   ]
  },
  {
   "cell_type": "markdown",
   "metadata": {},
   "source": [
    "After that, we use the plot.bar() function from the Pandas library to plot a barplot of the unigrams and their frequencies. We also use matplotlib aesthetic functions to enhance the readability of the chart."
   ]
  },
  {
   "cell_type": "code",
   "execution_count": 32,
   "metadata": {},
   "outputs": [
    {
     "data": {
      "text/plain": [
       "Text(0.5, 1.0, 'Unigrams Count')"
      ]
     },
     "execution_count": 32,
     "metadata": {},
     "output_type": "execute_result"
    },
    {
     "data": {
      "image/png": "[encoded data removed]",
      "text/plain": [
       "<Figure size 432x288 with 1 Axes>"
      ]
     },
     "metadata": {
      "needs_background": "light"
     },
     "output_type": "display_data"
    }
   ],
   "source": [
    "# barplot to represent the frequency of unigrams\n",
    "df1.plot.bar()\n",
    "plt.xlabel('unigrams')\n",
    "plt.ylabel('count')\n",
    "plt.title('Unigrams Count')"
   ]
  },
  {
   "cell_type": "markdown",
   "metadata": {},
   "source": [
    "As we can see, the word 'baby' has the highest freqency in all the reviews."
   ]
  },
  {
   "cell_type": "markdown",
   "metadata": {},
   "source": [
    "To visualize the distribution of bigrams, we create a custom made function to get the top n bigrams. This function uses CountVectorizer to generate bigrams from the review after removing the stop words, calculates the frequency of each bigram, then splices and returns the top n bigrams and their frequency sorted in the descending order based on frequency."
   ]
  },
  {
   "cell_type": "code",
   "execution_count": 33,
   "metadata": {},
   "outputs": [],
   "source": [
    "# custom made function to return the top n bigrams\n",
    "def get_top_n_bigram(x, n=25):\n",
    "    vec = CountVectorizer(ngram_range=(2, 2), stop_words='english').fit(x)\n",
    "    bag_of_words = vec.transform(x)\n",
    "    sum_words = bag_of_words.sum(axis=0) \n",
    "    words_freq = [(word, sum_words[0, idx]) for word, idx in vec.vocabulary_.items()]\n",
    "    words_freq =sorted(words_freq, key = lambda x: x[1], reverse=True)\n",
    "    return words_freq[:n]"
   ]
  },
  {
   "cell_type": "markdown",
   "metadata": {},
   "source": [
    "After that, we call the previously created function and pass the review column and specify n to be 25, and store the returned value in a variable."
   ]
  },
  {
   "cell_type": "code",
   "execution_count": 34,
   "metadata": {},
   "outputs": [
    {
     "data": {
      "text/plain": [
       "[('car seat', 12432),\n",
       " ('month old', 12227),\n",
       " ('year old', 10205),\n",
       " ('months old', 6895),\n",
       " ('highly recommend', 6031),\n",
       " ('diaper bag', 5056),\n",
       " ('easy clean', 5018),\n",
       " ('easy use', 4766),\n",
       " ('works great', 3881),\n",
       " ('great product', 3806),\n",
       " ('really like', 2976),\n",
       " ('make sure', 2941),\n",
       " ('son loves', 2937),\n",
       " ('daughter loves', 2844),\n",
       " ('high chair', 2825),\n",
       " ('easy install', 2758),\n",
       " ('old son', 2733),\n",
       " ('good quality', 2497),\n",
       " ('recommend product', 2443),\n",
       " ('old daughter', 2319),\n",
       " ('baby shower', 2298),\n",
       " ('customer service', 2265),\n",
       " ('definitely recommend', 2234),\n",
       " ('old loves', 2129),\n",
       " ('pack play', 2016)]"
      ]
     },
     "execution_count": 34,
     "metadata": {},
     "output_type": "execute_result"
    }
   ],
   "source": [
    "# calling function and storing result in a variable\n",
    "common_words = get_top_n_bigram(df['review'], 25)\n",
    "common_words"
   ]
  },
  {
   "cell_type": "markdown",
   "metadata": {},
   "source": [
    "As we can see, we have received a list of tuples containing the top 25 bigrams and their frequencies."
   ]
  },
  {
   "cell_type": "markdown",
   "metadata": {},
   "source": [
    "Next, we create a dataframe of the returned list using the DataFrame() function from the Pandas library and set the index to be the Bigrams to make our further analysis easier."
   ]
  },
  {
   "cell_type": "code",
   "execution_count": 35,
   "metadata": {},
   "outputs": [],
   "source": [
    "# creating a dataframe from the returned list\n",
    "df2 = pd.DataFrame(common_words, columns = ['Bigram Text' , 'Count'])\n",
    "\n",
    "# setting index to be bigrams\n",
    "df2.set_index('Bigram Text', drop=True, inplace=True)"
   ]
  },
  {
   "cell_type": "markdown",
   "metadata": {},
   "source": [
    "After that, we use the plot.bar() function from the Pandas library to plot a barplot of the bigrams and their frequencies. We also use matplotlib aesthetic functions to enhance the readability of the chart."
   ]
  },
  {
   "cell_type": "code",
   "execution_count": 36,
   "metadata": {},
   "outputs": [
    {
     "data": {
      "text/plain": [
       "Text(0.5, 1.0, 'Bigrams Count')"
      ]
     },
     "execution_count": 36,
     "metadata": {},
     "output_type": "execute_result"
    },
    {
     "data": {
      "image/png": "[encoded data removed]",
      "text/plain": [
       "<Figure size 432x288 with 1 Axes>"
      ]
     },
     "metadata": {
      "needs_background": "light"
     },
     "output_type": "display_data"
    }
   ],
   "source": [
    "# barplot to represent the frequency of bigrams\n",
    "df2.plot.bar()\n",
    "plt.xlabel('bigrams')\n",
    "plt.ylabel('count')\n",
    "plt.title('Bigrams Count')"
   ]
  },
  {
   "cell_type": "markdown",
   "metadata": {},
   "source": [
    "As we can see, the bigram 'car seat' has the highest frequency, and is closely followed by 'month old'."
   ]
  },
  {
   "cell_type": "markdown",
   "metadata": {},
   "source": [
    "To visualize the distribution of trigrams, we create a custom made function to get the top n trigrams. This function uses CountVectorizer to generate trigrams from the review after removing the stop words, calculates the frequency of each trigram, then splices and returns the top n trigrams and their frequency sorted in the descending order based on frequency."
   ]
  },
  {
   "cell_type": "code",
   "execution_count": 37,
   "metadata": {},
   "outputs": [],
   "source": [
    "# custom made function to return the top n trigrams\n",
    "def get_top_n_trigram(x, n=25):\n",
    "    vec = CountVectorizer(ngram_range=(3, 3), stop_words=\"english\").fit(x)\n",
    "    bag_of_words = vec.transform(x)\n",
    "    sum_words = bag_of_words.sum(axis=0) \n",
    "    words_freq = [(word, sum_words[0, idx]) for word, idx in vec.vocabulary_.items()]\n",
    "    words_freq =sorted(words_freq, key = lambda x: x[1], reverse=True)\n",
    "    return words_freq[:n]"
   ]
  },
  {
   "cell_type": "markdown",
   "metadata": {},
   "source": [
    "After that, we call the previously created function and pass the review column and specify n to be 25, and store the returned value in a variable."
   ]
  },
  {
   "cell_type": "code",
   "execution_count": 38,
   "metadata": {},
   "outputs": [
    {
     "data": {
      "text/plain": [
       "[('month old son', 1430),\n",
       " ('month old daughter', 1166),\n",
       " ('son months old', 892),\n",
       " ('month old loves', 873),\n",
       " ('year old son', 837),\n",
       " ('baby shower gift', 820),\n",
       " ('highly recommend product', 779),\n",
       " ('year old daughter', 773),\n",
       " ('love love love', 708),\n",
       " ('daughter months old', 690),\n",
       " ('10 month old', 626),\n",
       " ('infant car seat', 611),\n",
       " ('18 month old', 576),\n",
       " ('month old baby', 553),\n",
       " ('baby months old', 535),\n",
       " ('year old loves', 524),\n",
       " ('dr brown bottles', 480),\n",
       " ('bought year old', 433),\n",
       " ('bought month old', 429),\n",
       " ('old son loves', 427),\n",
       " ('months old loves', 419),\n",
       " ('just right size', 414),\n",
       " ('just make sure', 400),\n",
       " ('car seat stroller', 396),\n",
       " ('don waste money', 393)]"
      ]
     },
     "execution_count": 38,
     "metadata": {},
     "output_type": "execute_result"
    }
   ],
   "source": [
    "# calling function and storing result in a variable\n",
    "common_words = get_top_n_trigram(df['review'], 25)\n",
    "common_words"
   ]
  },
  {
   "cell_type": "markdown",
   "metadata": {},
   "source": [
    "As we can see, we have received a list of tuples containing the top 25 trigrams and their frequencies."
   ]
  },
  {
   "cell_type": "markdown",
   "metadata": {},
   "source": [
    "Next, we create a dataframe of the returned list using the DataFrame() function from the Pandas library and set the index to be the Trigrams to make our further analysis easier."
   ]
  },
  {
   "cell_type": "code",
   "execution_count": 39,
   "metadata": {},
   "outputs": [],
   "source": [
    "# creating a dataframe from the returned list\n",
    "df3 = pd.DataFrame(common_words, columns = ['Trigram Text' , 'Count'])\n",
    "\n",
    "# setting index to be trigrams\n",
    "df3.set_index('Trigram Text', drop=True, inplace=True)"
   ]
  },
  {
   "cell_type": "markdown",
   "metadata": {},
   "source": [
    "After that, we use the plot.bar() function from the Pandas library to plot a barplot of the trigrams and their frequencies. We also use matplotlib aesthetic functions to enhance the readability of the chart."
   ]
  },
  {
   "cell_type": "code",
   "execution_count": 40,
   "metadata": {},
   "outputs": [
    {
     "data": {
      "text/plain": [
       "Text(0.5, 1.0, 'Trigrams Count')"
      ]
     },
     "execution_count": 40,
     "metadata": {},
     "output_type": "execute_result"
    },
    {
     "data": {
      "image/png": "[encoded data removed]",
      "text/plain": [
       "<Figure size 432x288 with 1 Axes>"
      ]
     },
     "metadata": {
      "needs_background": "light"
     },
     "output_type": "display_data"
    }
   ],
   "source": [
    "# barplot to represent the frequency of trigrams\n",
    "df3.plot.bar()\n",
    "plt.xlabel('trigrams')\n",
    "plt.ylabel('count')\n",
    "plt.title('Trigrams Count')"
   ]
  },
  {
   "cell_type": "markdown",
   "metadata": {},
   "source": [
    "As we can see, the trigram 'month old son' has the highest frequency."
   ]
  }
 ],
 "metadata": {
  "kernelspec": {
   "display_name": "Python 3",
   "language": "python",
   "name": "python3"
  },
  "language_info": {
   "codemirror_mode": {
    "name": "ipython",
    "version": 3
   },
   "file_extension": ".py",
   "mimetype": "text/x-python",
   "name": "python",
   "nbconvert_exporter": "python",
   "pygments_lexer": "ipython3",
   "version": "3.8.5"
  }
 },
 "nbformat": 4,
 "nbformat_minor": 4
}
